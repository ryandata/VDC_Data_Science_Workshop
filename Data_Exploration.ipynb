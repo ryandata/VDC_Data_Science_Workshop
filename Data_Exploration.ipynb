{
 "cells": [
  {
   "cell_type": "markdown",
   "metadata": {
    "colab_type": "text",
    "id": "4qRZlH9K22f_"
   },
   "source": [
    "# Data Exploration\n",
    "## Virtual Data Collaboratory Undergraduate Data Science Workshop\n",
    "## November 12, 2020\n",
    "\n",
    "## Instructor: Ryan Womack\n",
    "\n",
    "# Topics\n",
    "- Introduction to Python and Jupyter Notebook environment\n",
    "- Data handling and data exploration using descriptive statistics and data visualization\n",
    "- Statistical analysis of a dataset using correlation and regression\n",
    "- Introduction to the concept of training and testing data splits for machine learning and forecasting applications"
   ]
  },
  {
   "cell_type": "markdown",
   "metadata": {},
   "source": [
    "## About Jupyter Notebooks and Python\n",
    "Python is a general purpose computing language. Some of you may be familiar with it.  It is arguably the most popular language for data science applications due to the large number of statistical and computing modules that have been created for working with data.\n",
    "\n",
    "The Jupyter Notebook is an interactive environment that allows Python code (and other programming languages) to be run alongside explanatory text (like this text), and to view results of code in the same document.  For this reason, it is particularly useful for learning and exploration."
   ]
  },
  {
   "cell_type": "markdown",
   "metadata": {
    "id": "HiLWA78W22gC"
   },
   "source": [
    "## Executing Code\n",
    "You can run the code cells in a Jupyter notebook by clicking in the cell and either clicking \"Run\" in the menu, or by selecting the keys \"Control + Enter\".  In Google Colab, you can also press the \"Play\" button icon.  The numbers that will appear to the left of the cell indicate the order in which commands are run.  It is important to run commands in the proper sequence."
   ]
  },
  {
   "cell_type": "markdown",
   "metadata": {},
   "source": [
    "## Importing Python modules\n",
    "Using Python typically involves loading several specialized modules.  These modules contain many of the graphing and statistical tools we will use.  Run the following cell to import these modules and their specific features.  In this session we are focused on the data exploration process and not the Python language itself, but by seeing this code in action, you can get a sense of what your own Python programming might involve."
   ]
  },
  {
   "cell_type": "code",
   "execution_count": null,
   "metadata": {
    "id": "dzk7Plly22gQ"
   },
   "outputs": [],
   "source": [
    "# Run this cell, but please don't change it.\n",
    "\n",
    "# These lines import Numpy and Pandas for data analysis, and Seaborn and Matplotlib for visualization\n",
    "\n",
    "import numpy as np\n",
    "import matplotlib.pyplot as plt\n",
    "import matplotlib.cm as cm\n",
    "import pandas as pd\n",
    "import seaborn as sns\n",
    "import statsmodels.api as sm\n",
    "from sklearn import linear_model\n",
    "\n",
    "from google.colab import files\n",
    "\n",
    "# \"Magic\" command below allows you to see plot in the notebook\n",
    "%matplotlib inline"
   ]
  },
  {
   "cell_type": "markdown",
   "metadata": {},
   "source": [
    "## Mount Google Drive\n",
    "\n",
    "One additional piece of setup.  We need to first mount the Google Drive in Colab before we can read data from Google Drive."
   ]
  },
  {
   "cell_type": "code",
   "execution_count": null,
   "metadata": {},
   "outputs": [],
   "source": [
    "from google.colab import drive\n",
    "drive.mount('/content/drive')"
   ]
  },
  {
   "cell_type": "markdown",
   "metadata": {},
   "source": [
    "## Working with Data\n",
    "In most real-world data analysis situations, you must spend a significant amount of time to learn about your data and clean and prepare it for analysis.  We will work with a few datasets that have already been set up for you, so that you can focus on the concepts involved, instead of the details of data preparation.\n",
    "\n",
    "We will work through one example togther, then you will have a choice of datasets to try out as an exercise."
   ]
  },
  {
   "cell_type": "markdown",
   "metadata": {
    "colab_type": "text",
    "id": "1oPGIRrR22gc"
   },
   "source": [
    "# Life Expectancy\n",
    "\n",
    "This dataset is an extract from the World Bank's Gender Statistics dataset, using 2018 data.  \n",
    "https://datacatalog.worldbank.org/dataset/gender-statistics\n",
    "\n",
    "We will look at *life expectancy* among females in various countries around the world, and try to understand some other variables that relate to it."
   ]
  },
  {
   "cell_type": "markdown",
   "metadata": {},
   "source": [
    "## Importing Data\n",
    "\n",
    "We read data directly from its web location (the github site for this workshop).  "
   ]
  },
  {
   "cell_type": "code",
   "execution_count": null,
   "metadata": {},
   "outputs": [],
   "source": [
    "life = pd.read_csv('https://github.com/ryandata/VDC_Data_Science_Workshop/raw/main/life.csv')"
   ]
  },
  {
   "cell_type": "markdown",
   "metadata": {},
   "source": [
    "Print the data to see it and make sure that it is loaded correctly."
   ]
  },
  {
   "cell_type": "code",
   "execution_count": null,
   "metadata": {
    "id": "KDdpAFnqPe25"
   },
   "outputs": [],
   "source": [
    "print(life)"
   ]
  },
  {
   "cell_type": "markdown",
   "metadata": {},
   "source": [
    "We use a few other commands to explore the data.  Columns lets us see the variable names. Shape lets us see the dimensions of the data. Info lets us see the variable formats."
   ]
  },
  {
   "cell_type": "code",
   "execution_count": null,
   "metadata": {
    "colab": {},
    "colab_type": "code",
    "id": "NhqTOCqwQ2aR"
   },
   "outputs": [],
   "source": [
    "life.columns"
   ]
  },
  {
   "cell_type": "code",
   "execution_count": null,
   "metadata": {},
   "outputs": [],
   "source": [
    "life.shape"
   ]
  },
  {
   "cell_type": "code",
   "execution_count": null,
   "metadata": {},
   "outputs": [],
   "source": [
    "life.info()"
   ]
  },
  {
   "cell_type": "markdown",
   "metadata": {},
   "source": [
    "Describe provides summary statistics of each variable"
   ]
  },
  {
   "cell_type": "code",
   "execution_count": null,
   "metadata": {},
   "outputs": [],
   "source": [
    "life.describe()"
   ]
  },
  {
   "cell_type": "markdown",
   "metadata": {
    "colab_type": "text",
    "id": "g2txIYtZSD9N"
   },
   "source": [
    "Who has the highest life expectancy?\n",
    "Let's sort the data and look at the top ranking countries."
   ]
  },
  {
   "cell_type": "code",
   "execution_count": null,
   "metadata": {},
   "outputs": [],
   "source": [
    "life.sort_values(by='Life_Expectancy', ascending=False).head()"
   ]
  },
  {
   "cell_type": "markdown",
   "metadata": {
    "colab_type": "text",
    "id": "eXsoWIzb22gx"
   },
   "source": [
    "## Visualize the relationship between two variables using a scatter plot\n",
    "\n",
    "Plot each data point according to the value of two of the variables.  Observe the pattern that results.\n",
    "\n",
    "Closely grouped and steeply sloped lines will indicate a strong relationship between variables.  Note that the relationship may not always be linear.  Learning to work with more complex models that capture these nuances of the relationships is a key part of data science. \n",
    "\n",
    "Note: We are using the *seaborn* package for visualization in Python.  Along with *matplotlib*, it is one of the most commonly used visualization tools for Python."
   ]
  },
  {
   "cell_type": "markdown",
   "metadata": {},
   "source": [
    "First, we compare Life Expectancy to Mortality Rate.  What can we say about this relationship?"
   ]
  },
  {
   "cell_type": "code",
   "execution_count": null,
   "metadata": {},
   "outputs": [],
   "source": [
    "x_value = life['Mortality_Rate']\n",
    "y_value = life['Life_Expectancy']\n",
    "\n",
    "with sns.axes_style('ticks'):\n",
    "    sns.scatterplot(x=x_value, y=y_value)\n",
    "\n",
    "plt.show()"
   ]
  },
  {
   "cell_type": "markdown",
   "metadata": {},
   "source": [
    "We can also compare all variables to each other using a pair plot."
   ]
  },
  {
   "cell_type": "code",
   "execution_count": null,
   "metadata": {},
   "outputs": [],
   "source": [
    "sns.pairplot(life)"
   ]
  },
  {
   "cell_type": "markdown",
   "metadata": {},
   "source": [
    "We can also look at how data is distributed--for example, Life Expectancy.  One way is via a histogram."
   ]
  },
  {
   "cell_type": "code",
   "execution_count": null,
   "metadata": {},
   "outputs": [],
   "source": [
    "sns.displot(y_value)"
   ]
  },
  {
   "cell_type": "markdown",
   "metadata": {},
   "source": [
    "Another is by estimating the distribution of the data (Kernel Density Estimation)"
   ]
  },
  {
   "cell_type": "code",
   "execution_count": null,
   "metadata": {},
   "outputs": [],
   "source": [
    "sns.displot(y_value, kind=\"kde\")"
   ]
  },
  {
   "cell_type": "markdown",
   "metadata": {},
   "source": [
    "Or we can combine both on the same plot."
   ]
  },
  {
   "cell_type": "code",
   "execution_count": null,
   "metadata": {},
   "outputs": [],
   "source": [
    "sns.displot(y_value, kde=\"True\")"
   ]
  },
  {
   "cell_type": "markdown",
   "metadata": {},
   "source": [
    "Our final visualization returns us to the scatterplot, but with a **regression line** through the data.  This line is the best linear fit to the data, and can be viewed as estimating the relationship between x and y, if that relationship were reduced to a linear equation.  The process of computing this estimate is called **regression**."
   ]
  },
  {
   "cell_type": "code",
   "execution_count": null,
   "metadata": {},
   "outputs": [],
   "source": [
    "x_value = life['Mortality_Rate']\n",
    "y_value = life['Life_Expectancy']\n",
    "\n",
    "# Plotting regression, with figure-specific style change to white/grid-less background\n",
    "with sns.axes_style('ticks'):\n",
    "    sns.regplot(x=x_value, y=y_value, scatter_kws={'s':10})\n",
    "\n",
    "plt.show()"
   ]
  },
  {
   "cell_type": "markdown",
   "metadata": {},
   "source": [
    "# Correlation and Regression"
   ]
  },
  {
   "cell_type": "markdown",
   "metadata": {},
   "source": [
    "## Correlation\n",
    "**Correlation** is a measure of the strength of the relationship between two variables, ranging from -1 (strongest negative relationship) to 0 (no relationship) to 1 (strongest positive relationship). The relationship may be causal or simply an association, but if a correlation is present, knowing something about one variable means we can make an educated guess, or prediction, about the second variable.\n",
    "We can test the correlation between two variables, such as Life Expectancy and Mortality Rate:"
   ]
  },
  {
   "cell_type": "code",
   "execution_count": null,
   "metadata": {},
   "outputs": [],
   "source": [
    "life['Mortality_Rate'].corr(life['Life_Expectancy'])"
   ]
  },
  {
   "cell_type": "markdown",
   "metadata": {},
   "source": [
    "Or we can look at all of the correlations in a dataset."
   ]
  },
  {
   "cell_type": "code",
   "execution_count": null,
   "metadata": {},
   "outputs": [],
   "source": [
    "life.corr()"
   ]
  },
  {
   "cell_type": "markdown",
   "metadata": {},
   "source": [
    "Here \"Probability of Survival to Age 5\" has the highest correlation (in absolute value) to Life Expectancy, so it might be one of the first variables to consider when building a regression model to explain the relationship."
   ]
  },
  {
   "cell_type": "markdown",
   "metadata": {},
   "source": [
    "We can also visualize the correlation matrix."
   ]
  },
  {
   "cell_type": "code",
   "execution_count": null,
   "metadata": {},
   "outputs": [],
   "source": [
    "corr_mat = life.corr().stack().reset_index(name=\"correlation\")\n",
    "sns.relplot(\n",
    "    data=corr_mat,\n",
    "    x=\"level_0\", y=\"level_1\", hue=\"correlation\", size=\"correlation\",\n",
    "    palette=\"vlag\", hue_norm=(-1, 1), edgecolor=\".7\",\n",
    "    height=10, sizes=(50, 250)\n",
    ")\n"
   ]
  },
  {
   "cell_type": "markdown",
   "metadata": {},
   "source": [
    "## Regression\n",
    "\n",
    "Our final step will be to actually compute the regression equation.  Here we build a model with some of the likely variables, and see how much explanatory power it has.  Our equation will be of the form\n",
    "*y* = *c* + a1*x1* + a2*x2* + ... an*xn*\n",
    "where *y* is our *response* variable (or dependnt variable), which we are trying to explain. The *x* variables represent the *explanatory* variables (or independent variables) that we believe affect *y*.  The a's are coefficients on the *x* variables. Finally, *c* is a constant that will be computed by the regression process.\n",
    "The key is to choose the *x* variables wisely. We will start with the one that has the highest correlation to *y*, and then move down the list.\n",
    "In the case of Life Expectancy, we found that Probablity of Survival to age 5 was most closely related, so we build the regression as follows."
   ]
  },
  {
   "cell_type": "markdown",
   "metadata": {},
   "source": [
    "Note that we are using the linear regression tools from *scikit-learn*.  Scikit-learn (https://scikit-learn.org/) is one of the most powerful and popular tools for machine learning in Python."
   ]
  },
  {
   "cell_type": "markdown",
   "metadata": {},
   "source": [
    "Specify our Y and X for the model"
   ]
  },
  {
   "cell_type": "code",
   "execution_count": null,
   "metadata": {},
   "outputs": [],
   "source": [
    "Y = life['Life_Expectancy'].values\n",
    "print(Y)"
   ]
  },
  {
   "cell_type": "code",
   "execution_count": null,
   "metadata": {},
   "outputs": [],
   "source": [
    "X=life[['Prob_Survival_to_5']]\n",
    "print(X)"
   ]
  },
  {
   "cell_type": "markdown",
   "metadata": {},
   "source": [
    "The next step is necessary to convert the data into a form that the regression algorithm can process."
   ]
  },
  {
   "cell_type": "markdown",
   "metadata": {},
   "source": [
    "Create linear regression object"
   ]
  },
  {
   "cell_type": "code",
   "execution_count": null,
   "metadata": {},
   "outputs": [],
   "source": [
    "reg = linear_model.LinearRegression()"
   ]
  },
  {
   "cell_type": "markdown",
   "metadata": {},
   "source": [
    "Fit the model"
   ]
  },
  {
   "cell_type": "code",
   "execution_count": null,
   "metadata": {},
   "outputs": [],
   "source": [
    "reg.fit(X, Y)"
   ]
  },
  {
   "cell_type": "markdown",
   "metadata": {},
   "source": [
    "Plot the results"
   ]
  },
  {
   "cell_type": "code",
   "execution_count": null,
   "metadata": {},
   "outputs": [],
   "source": [
    "plt.plot(X, reg.predict(X), color='red',linewidth=3)\n",
    "plt.plot(X,Y,'o')"
   ]
  },
  {
   "cell_type": "markdown",
   "metadata": {},
   "source": [
    "print(reg.intercept_)We can also get some very detailed statistics on the regression fit.  For now, just look at two things in the output below.  \n",
    "*R-squared* is one measure of how good the fit it.  It ranges from 0 to 1, with 1 meaning that the equation completely explains all of the variance in the data (best fit).  There is a bit more to it than that, but that is a good enough approximation for now.\n",
    "The *coef* is the coefficient on our explanatory variable.  It this case, it means we can take the Probability of Survival to Age 5 and multiply it by 77 to get an estimate of Life Expectancy that will be reasonably accurate.\n",
    "This gives you a sense of how regression can work as a predictor. We'll return to that topic later."
   ]
  },
  {
   "cell_type": "markdown",
   "metadata": {},
   "source": [
    "The intercept is the value of Y when X is 0."
   ]
  },
  {
   "cell_type": "code",
   "execution_count": null,
   "metadata": {},
   "outputs": [],
   "source": [
    "print(reg.intercept_)"
   ]
  },
  {
   "cell_type": "code",
   "execution_count": null,
   "metadata": {},
   "outputs": [],
   "source": [
    "X = sm.add_constant(X)\n",
    "model = sm.OLS(Y, X)\n",
    "results = model.fit()\n",
    "print(results.summary())"
   ]
  },
  {
   "cell_type": "markdown",
   "metadata": {},
   "source": [
    "We can also consider multiple regression, with more than one explanatory variable, along with many other variations.  We would also normally do other evaluations of the fit of the model. There is a lot more to building models! In the interest of time, however, we'll just be using one variable models in this workshop."
   ]
  },
  {
   "cell_type": "markdown",
   "metadata": {
    "colab_type": "text",
    "id": "sHymHS0G22g9"
   },
   "source": [
    "# Exercises/Case Studies\n",
    "What follows are 4 case studies that you will work through as individual exercises.  Choose ONE that interests you, and explore the data using our tools for data exploration, visualization, and regression.\n",
    "The cases are:\n",
    "    - Cardiovascular Disease (Science)\n",
    "    - World Development (Social Science)\n",
    "    - World Economy (Business/Economics)\n",
    "    - Environment (Another Science)\n",
    "    \n",
    "In each case, there are only a few \"moving parts\" - cells where you will edit the code to select variables and parameters.  Look for the **EDIT HERE** statement.  Be careful to run cells in order."
   ]
  },
  {
   "cell_type": "markdown",
   "metadata": {
    "colab_type": "text",
    "id": "UpYQ9Z7q22g-"
   },
   "source": [
    "## Case Study 1: Cardiovascular Disease\n",
    "\n",
    "The original dataset has records of 70,000 patients.  See\n",
    "https://www.kaggle.com/sulianova/cardiovascular-disease-dataset for details.  The dataset presented for this class is a sample of 1000 patients (for rapid analysis), and has been cleaned of outliers.\n",
    "\n",
    "The variable \"cardio\" is an indicator of whether or not cardiovascular disease is present.  For now, let's try to predict what is linked to high blood pressure (ap_hi in the dataset)."
   ]
  },
  {
   "cell_type": "code",
   "execution_count": null,
   "metadata": {},
   "outputs": [],
   "source": [
    "cardio = pd.read_csv('https://github.com/ryandata/VDC_Data_Science_Workshop/raw/main/cardio.csv')"
   ]
  },
  {
   "cell_type": "code",
   "execution_count": null,
   "metadata": {},
   "outputs": [],
   "source": [
    "cardio.columns"
   ]
  },
  {
   "cell_type": "code",
   "execution_count": null,
   "metadata": {},
   "outputs": [],
   "source": [
    "cardio.shape"
   ]
  },
  {
   "cell_type": "code",
   "execution_count": null,
   "metadata": {},
   "outputs": [],
   "source": [
    "cardio.info()"
   ]
  },
  {
   "cell_type": "code",
   "execution_count": null,
   "metadata": {},
   "outputs": [],
   "source": [
    "cardio.describe()"
   ]
  },
  {
   "cell_type": "markdown",
   "metadata": {},
   "source": [
    "Some variables are categorical - for example, the cholesterol level is given a rating from 1 to 3 (good to worst). For a zero-one variable like smoking, a zero typically means \"no\" (in this case non-smoking) or \"yes\" (smoking).  "
   ]
  },
  {
   "cell_type": "code",
   "execution_count": null,
   "metadata": {},
   "outputs": [],
   "source": [
    "cardio.sort_values(by='weight', ascending=False).head()"
   ]
  },
  {
   "cell_type": "markdown",
   "metadata": {},
   "source": [
    "What do you notice about the highest weight patients?  What is the cardiovascular disease status?"
   ]
  },
  {
   "cell_type": "code",
   "execution_count": null,
   "metadata": {},
   "outputs": [],
   "source": [
    "sns.pairplot(cardio)"
   ]
  },
  {
   "cell_type": "markdown",
   "metadata": {},
   "source": [
    "Here the pairplot is a bit hairy.  There are many variables, and the categorical variables are hard to interpret with this kind of visualization.  We can move on to examining individual combinations, such as weight against blood pressure (below)."
   ]
  },
  {
   "cell_type": "code",
   "execution_count": null,
   "metadata": {},
   "outputs": [],
   "source": [
    "x_value = cardio['weight']\n",
    "y_value = cardio['ap_hi']\n",
    "\n",
    "# Plotting regression, with figure-specific style change to white/grid-less background\n",
    "with sns.axes_style('ticks'):\n",
    "    sns.regplot(x=x_value, y=y_value, scatter_kws={'s':10})\n",
    "\n",
    "plt.show()"
   ]
  },
  {
   "cell_type": "markdown",
   "metadata": {},
   "source": [
    "Plotting the distribution of the response variable, blood pressure."
   ]
  },
  {
   "cell_type": "code",
   "execution_count": null,
   "metadata": {},
   "outputs": [],
   "source": [
    "sns.displot(y_value)"
   ]
  },
  {
   "cell_type": "code",
   "execution_count": null,
   "metadata": {},
   "outputs": [],
   "source": [
    "sns.displot(y_value, kde=\"True\")"
   ]
  },
  {
   "cell_type": "markdown",
   "metadata": {},
   "source": [
    "Check the correlation of variables with cardio.  Which one has the highest correlation to blood pressure (ap_hi)?"
   ]
  },
  {
   "cell_type": "code",
   "execution_count": null,
   "metadata": {},
   "outputs": [],
   "source": [
    "cardio.corr()"
   ]
  },
  {
   "cell_type": "markdown",
   "metadata": {},
   "source": [
    "Let's visualize the correlations too."
   ]
  },
  {
   "cell_type": "code",
   "execution_count": null,
   "metadata": {},
   "outputs": [],
   "source": [
    "corr_mat = cardio.corr().stack().reset_index(name=\"correlation\")\n",
    "sns.relplot(\n",
    "    data=corr_mat,\n",
    "    x=\"level_0\", y=\"level_1\", hue=\"correlation\", size=\"correlation\",\n",
    "    palette=\"vlag\", hue_norm=(-1, 1), edgecolor=\".7\",\n",
    "    height=10, sizes=(50, 250)\n",
    ")"
   ]
  },
  {
   "cell_type": "markdown",
   "metadata": {},
   "source": [
    "Time for you to choose.  Which variable has the closest relationship to blood pressure (ap_hi)?  Enter the name of that variable below.\n",
    "\n",
    "## **EDIT HERE**\n",
    "Put your variable choice inside the quote marks below.  For example, you could replace 'weight' with 'height' or 'cholesterol' as *my_var*"
   ]
  },
  {
   "cell_type": "code",
   "execution_count": null,
   "metadata": {},
   "outputs": [],
   "source": [
    "my_var = 'weight'"
   ]
  },
  {
   "cell_type": "code",
   "execution_count": null,
   "metadata": {},
   "outputs": [],
   "source": [
    "x_value = cardio[[my_var]]"
   ]
  },
  {
   "cell_type": "markdown",
   "metadata": {},
   "source": [
    "The correlation between your variable and ap_hi is"
   ]
  },
  {
   "cell_type": "code",
   "execution_count": null,
   "metadata": {},
   "outputs": [],
   "source": [
    "cardio[my_var].corr(cardio['ap_hi'])"
   ]
  },
  {
   "cell_type": "code",
   "execution_count": null,
   "metadata": {},
   "outputs": [],
   "source": [
    "y_value = cardio['ap_hi']\n",
    "\n",
    "# Plotting regression, with figure-specific style change to white/grid-less background\n",
    "with sns.axes_style('ticks'):\n",
    "    sns.regplot(x=x_value, y=y_value, scatter_kws={'s':10})\n",
    "\n",
    "plt.show()"
   ]
  },
  {
   "cell_type": "code",
   "execution_count": null,
   "metadata": {},
   "outputs": [],
   "source": [
    "Y = cardio['ap_hi'].values\n",
    "print(Y)"
   ]
  },
  {
   "cell_type": "code",
   "execution_count": null,
   "metadata": {},
   "outputs": [],
   "source": [
    "X = x_value\n",
    "print(X)"
   ]
  },
  {
   "cell_type": "code",
   "execution_count": null,
   "metadata": {},
   "outputs": [],
   "source": [
    "reg = linear_model.LinearRegression()"
   ]
  },
  {
   "cell_type": "code",
   "execution_count": null,
   "metadata": {},
   "outputs": [],
   "source": [
    "reg.fit(X,Y)"
   ]
  },
  {
   "cell_type": "code",
   "execution_count": null,
   "metadata": {},
   "outputs": [],
   "source": [
    "plt.plot(X, reg.predict(X), color='red',linewidth=3)\n",
    "plt.plot(X,Y,'o')"
   ]
  },
  {
   "cell_type": "markdown",
   "metadata": {},
   "source": [
    "The intercept is the value of Y when the value of X is 0."
   ]
  },
  {
   "cell_type": "code",
   "execution_count": null,
   "metadata": {},
   "outputs": [],
   "source": [
    "print(reg.intercept_)"
   ]
  },
  {
   "cell_type": "code",
   "execution_count": null,
   "metadata": {},
   "outputs": [],
   "source": [
    "X = sm.add_constant(X)\n",
    "model = sm.OLS(Y, X)\n",
    "results = model.fit()\n",
    "print(results.summary())"
   ]
  },
  {
   "cell_type": "markdown",
   "metadata": {},
   "source": [
    "What did you observe?  Which variable had the highest correlation?  What does the coefficient (coef) on the variable tell us about the relationship?\n",
    "\n",
    "How well did it fit the data in the regression?  Look at R-squared as a measure of fit."
   ]
  },
  {
   "cell_type": "markdown",
   "metadata": {},
   "source": [
    "## Case Study 2: Environmental Data\n",
    "\n",
    "This data is a very selective extract from the World Bank's Environmental, Social and Governance Data.\n",
    "See https://datacatalog.worldbank.org/dataset/environment-social-and-governance-data for details.  The data reflects 2016 data for 168 countries, and has been cleaned to focus on selected variables and remove missing data.\n",
    "\n",
    "The variable \"CO2\" is a measure of the per capita emissions of carbon dioxide emitted for the country.  Try to analyze which variables are most closely linked to CO2 emissions.  The other variables are mostly either actual measures or percentages, while Corruption and Regulation are ratings of the amount of corruption and the effectiveness of regulation in the country."
   ]
  },
  {
   "cell_type": "code",
   "execution_count": null,
   "metadata": {},
   "outputs": [],
   "source": [
    "envd = pd.read_csv('https://github.com/ryandata/VDC_Data_Science_Workshop/raw/main/environment.csv')"
   ]
  },
  {
   "cell_type": "code",
   "execution_count": null,
   "metadata": {},
   "outputs": [],
   "source": [
    "envd.columns"
   ]
  },
  {
   "cell_type": "code",
   "execution_count": null,
   "metadata": {},
   "outputs": [],
   "source": [
    "envd.shape"
   ]
  },
  {
   "cell_type": "code",
   "execution_count": null,
   "metadata": {},
   "outputs": [],
   "source": [
    "envd.info()"
   ]
  },
  {
   "cell_type": "code",
   "execution_count": null,
   "metadata": {},
   "outputs": [],
   "source": [
    "envd.describe()"
   ]
  },
  {
   "cell_type": "markdown",
   "metadata": {},
   "source": [
    "None of the variables here are categorical, only measures.  Next, sort the data by CO2 and look at the top countries."
   ]
  },
  {
   "cell_type": "code",
   "execution_count": null,
   "metadata": {},
   "outputs": [],
   "source": [
    "envd.sort_values(by='CO2', ascending=False).head()"
   ]
  },
  {
   "cell_type": "markdown",
   "metadata": {},
   "source": [
    "Do you notice anything about the high CO2 emitting countries?"
   ]
  },
  {
   "cell_type": "code",
   "execution_count": null,
   "metadata": {},
   "outputs": [],
   "source": [
    "sns.pairplot(envd)"
   ]
  },
  {
   "cell_type": "markdown",
   "metadata": {},
   "source": [
    "There are a lot of variables here, but do your best to find the variables that relate to CO2 (first row or column shows these combinations)."
   ]
  },
  {
   "cell_type": "code",
   "execution_count": null,
   "metadata": {},
   "outputs": [],
   "source": [
    "x_value = envd['Regulation']\n",
    "y_value = envd['CO2']\n",
    "\n",
    "# Plotting regression, with figure-specific style change to white/grid-less background\n",
    "with sns.axes_style('ticks'):\n",
    "    sns.regplot(x=x_value, y=y_value, scatter_kws={'s':10})\n",
    "\n",
    "plt.show()"
   ]
  },
  {
   "cell_type": "markdown",
   "metadata": {},
   "source": [
    "What might account for the positive relationship between CO2 and regulation?\n",
    "\n",
    "Now we plot the distribution of the response variable, CO2."
   ]
  },
  {
   "cell_type": "code",
   "execution_count": null,
   "metadata": {},
   "outputs": [],
   "source": [
    "sns.displot(y_value)"
   ]
  },
  {
   "cell_type": "code",
   "execution_count": null,
   "metadata": {},
   "outputs": [],
   "source": [
    "sns.displot(y_value, kde=\"True\")"
   ]
  },
  {
   "cell_type": "markdown",
   "metadata": {},
   "source": [
    "Check the correlation of variables in the environmental dataset.  Which one has the highest correlation to CO2?"
   ]
  },
  {
   "cell_type": "code",
   "execution_count": null,
   "metadata": {},
   "outputs": [],
   "source": [
    "envd.corr()"
   ]
  },
  {
   "cell_type": "markdown",
   "metadata": {},
   "source": [
    "Let's visualize the correlations too."
   ]
  },
  {
   "cell_type": "code",
   "execution_count": null,
   "metadata": {},
   "outputs": [],
   "source": [
    "corr_mat = envd.corr().stack().reset_index(name=\"correlation\")\n",
    "sns.relplot(\n",
    "    data=corr_mat,\n",
    "    x=\"level_0\", y=\"level_1\", hue=\"correlation\", size=\"correlation\",\n",
    "    palette=\"vlag\", hue_norm=(-1, 1), edgecolor=\".7\",\n",
    "    height=10, sizes=(50, 250)\n",
    ")"
   ]
  },
  {
   "cell_type": "markdown",
   "metadata": {},
   "source": [
    "Time for you to choose.  Which variable has the closest relationship to CO2?  Enter the name of that variable below.\n",
    "\n",
    "## **EDIT HERE**\n",
    "Put your variable choice inside the quote marks below.  For example, you could replace 'Regulation' with 'Pop_Density' or 'Fertility_Rate' as *my_var*"
   ]
  },
  {
   "cell_type": "code",
   "execution_count": null,
   "metadata": {},
   "outputs": [],
   "source": [
    "my_var = 'Regulation'"
   ]
  },
  {
   "cell_type": "code",
   "execution_count": null,
   "metadata": {},
   "outputs": [],
   "source": [
    "x_value = envd[[my_var]]"
   ]
  },
  {
   "cell_type": "markdown",
   "metadata": {},
   "source": [
    "The correlation between your variable and CO2 is"
   ]
  },
  {
   "cell_type": "code",
   "execution_count": null,
   "metadata": {},
   "outputs": [],
   "source": [
    "envd[my_var].corr(envd['CO2'])"
   ]
  },
  {
   "cell_type": "code",
   "execution_count": null,
   "metadata": {},
   "outputs": [],
   "source": [
    "y_value = envd['CO2']\n",
    "\n",
    "# Plotting regression, with figure-specific style change to white/grid-less background\n",
    "with sns.axes_style('ticks'):\n",
    "    sns.regplot(x=x_value, y=y_value, scatter_kws={'s':10})\n",
    "\n",
    "plt.show()"
   ]
  },
  {
   "cell_type": "code",
   "execution_count": null,
   "metadata": {},
   "outputs": [],
   "source": [
    "Y = envd['CO2'].values\n",
    "print(Y)"
   ]
  },
  {
   "cell_type": "code",
   "execution_count": null,
   "metadata": {},
   "outputs": [],
   "source": [
    "X = x_value\n",
    "print(X)"
   ]
  },
  {
   "cell_type": "code",
   "execution_count": null,
   "metadata": {},
   "outputs": [],
   "source": [
    "reg = linear_model.LinearRegression()"
   ]
  },
  {
   "cell_type": "code",
   "execution_count": null,
   "metadata": {},
   "outputs": [],
   "source": [
    "reg.fit(X,Y)"
   ]
  },
  {
   "cell_type": "code",
   "execution_count": null,
   "metadata": {},
   "outputs": [],
   "source": [
    "plt.plot(X, reg.predict(X), color='red',linewidth=3)\n",
    "plt.plot(X,Y,'o')"
   ]
  },
  {
   "cell_type": "markdown",
   "metadata": {},
   "source": [
    "The intercept is the value of Y when the value of X is 0."
   ]
  },
  {
   "cell_type": "code",
   "execution_count": null,
   "metadata": {},
   "outputs": [],
   "source": [
    "print(reg.intercept_)"
   ]
  },
  {
   "cell_type": "code",
   "execution_count": null,
   "metadata": {},
   "outputs": [],
   "source": [
    "X = sm.add_constant(X)\n",
    "model = sm.OLS(Y, X)\n",
    "results = model.fit()\n",
    "print(results.summary())"
   ]
  },
  {
   "cell_type": "markdown",
   "metadata": {},
   "source": [
    "What did you observe?  Which variable had the highest correlation?  What does the coefficient (coef) on the variable tell us about the relationship?\n",
    "\n",
    "How well did it fit the data in the regression?  Look at R-squared as a measure of fit."
   ]
  },
  {
   "cell_type": "markdown",
   "metadata": {},
   "source": [
    "## Case Study 3: Economic Data"
   ]
  },
  {
   "cell_type": "markdown",
   "metadata": {},
   "source": [
    "###### This data is a very selective extract from the World Bank's World Development Indicators. See https://datacatalog.worldbank.org/dataset/world-development-indicators for details. The data reflects 2018 data for 168 countries, and has been cleaned to focus on selected variables and remove missing data.\n",
    "\n",
    "The variable \"GDP_Per_Capita\" is a measure of the GDP (Gross Domestic Product) per person.  It is one way to approximate the average income for a country. \n",
    "\n",
    "The variables ending in Pct are Percentages of the total national income, except for Agriculture, Industry, and Service, where they are percentages of the workforce. The other variables are mostly either actual measures or percentages, while Corruption and Regulation are ratings of the amount of corruption and the effectiveness of regulation in the country. F_M_Labor_Ratio is the ratio of women to men in the labor force (with 100 being equal).\n",
    "\n",
    "Try to analyze which variables are most closely linked to GDP per capita."
   ]
  },
  {
   "cell_type": "code",
   "execution_count": null,
   "metadata": {},
   "outputs": [],
   "source": [
    "GDP = pd.read_csv('https://github.com/ryandata/VDC_Data_Science_Workshop/raw/main/GDP.csv')"
   ]
  },
  {
   "cell_type": "code",
   "execution_count": null,
   "metadata": {},
   "outputs": [],
   "source": [
    "GDP.columns"
   ]
  },
  {
   "cell_type": "code",
   "execution_count": null,
   "metadata": {},
   "outputs": [],
   "source": [
    "GDP.shape"
   ]
  },
  {
   "cell_type": "code",
   "execution_count": null,
   "metadata": {},
   "outputs": [],
   "source": [
    "GDP.info()"
   ]
  },
  {
   "cell_type": "code",
   "execution_count": null,
   "metadata": {},
   "outputs": [],
   "source": [
    "GDP.describe()"
   ]
  },
  {
   "cell_type": "markdown",
   "metadata": {},
   "source": [
    "None of the variables here are categorical, only measures.  Next, sort the data by GDP and look at the top countries."
   ]
  },
  {
   "cell_type": "code",
   "execution_count": null,
   "metadata": {},
   "outputs": [],
   "source": [
    "GDP.sort_values(by='GDP_per_capita', ascending=False).head()"
   ]
  },
  {
   "cell_type": "markdown",
   "metadata": {},
   "source": [
    "Do you notice anything about the high GDP countries?"
   ]
  },
  {
   "cell_type": "code",
   "execution_count": null,
   "metadata": {},
   "outputs": [],
   "source": [
    "sns.pairplot(GDP)"
   ]
  },
  {
   "cell_type": "markdown",
   "metadata": {},
   "source": [
    "There are a lot of variables here, but do your best to find the variables that relate to GDP (first row or column shows these combinations)."
   ]
  },
  {
   "cell_type": "code",
   "execution_count": null,
   "metadata": {},
   "outputs": [],
   "source": [
    "x_value = GDP['Agriculture_Pct']\n",
    "y_value = GDP['GDP_per_capita']\n",
    "\n",
    "# Plotting regression, with figure-specific style change to white/grid-less background\n",
    "with sns.axes_style('ticks'):\n",
    "    sns.regplot(x=x_value, y=y_value, scatter_kws={'s':10})\n",
    "\n",
    "plt.show()"
   ]
  },
  {
   "cell_type": "markdown",
   "metadata": {},
   "source": [
    "What might account for the negative relationship between GDP and the percentage of workers in agriculture?\n",
    "\n",
    "Now we plot the distribution of the response variable, GDP per capita."
   ]
  },
  {
   "cell_type": "code",
   "execution_count": null,
   "metadata": {},
   "outputs": [],
   "source": [
    "sns.displot(y_value)"
   ]
  },
  {
   "cell_type": "code",
   "execution_count": null,
   "metadata": {},
   "outputs": [],
   "source": [
    "sns.displot(y_value, kde=\"True\")"
   ]
  },
  {
   "cell_type": "markdown",
   "metadata": {},
   "source": [
    "Check the correlation of variables in the GDP dataset.  Which one has the highest correlation to GDP per capita?"
   ]
  },
  {
   "cell_type": "code",
   "execution_count": null,
   "metadata": {},
   "outputs": [],
   "source": [
    "GDP.corr()"
   ]
  },
  {
   "cell_type": "markdown",
   "metadata": {},
   "source": [
    "Let's visualize the correlations too."
   ]
  },
  {
   "cell_type": "code",
   "execution_count": null,
   "metadata": {},
   "outputs": [],
   "source": [
    "corr_mat = GDP.corr().stack().reset_index(name=\"correlation\")\n",
    "sns.relplot(\n",
    "    data=corr_mat,\n",
    "    x=\"level_0\", y=\"level_1\", hue=\"correlation\", size=\"correlation\",\n",
    "    palette=\"vlag\", hue_norm=(-1, 1), edgecolor=\".7\",\n",
    "    height=10, sizes=(50, 250)\n",
    ")"
   ]
  },
  {
   "cell_type": "markdown",
   "metadata": {},
   "source": [
    "Time for you to choose.  Which variable has the closest relationship to GDP per capita?  Enter the name of that variable below.\n",
    "\n",
    "## **EDIT HERE**\n",
    "Put your variable choice inside the quote marks below.  For example, you could replace 'Regulation' with 'Pop_Density' or 'Fertility_Rate' as *my_var*"
   ]
  },
  {
   "cell_type": "code",
   "execution_count": null,
   "metadata": {},
   "outputs": [],
   "source": [
    "my_var = 'Agriculture_Pct'"
   ]
  },
  {
   "cell_type": "code",
   "execution_count": null,
   "metadata": {},
   "outputs": [],
   "source": [
    "x_value = GDP[[my_var]]"
   ]
  },
  {
   "cell_type": "markdown",
   "metadata": {},
   "source": [
    "The correlation between your variable and GDP per capita is"
   ]
  },
  {
   "cell_type": "code",
   "execution_count": null,
   "metadata": {},
   "outputs": [],
   "source": [
    "GDP[my_var].corr(GDP['GDP_per_capita'])"
   ]
  },
  {
   "cell_type": "code",
   "execution_count": null,
   "metadata": {},
   "outputs": [],
   "source": [
    "y_value = GDP['GDP_per_capita']\n",
    "\n",
    "# Plotting regression, with figure-specific style change to white/grid-less background\n",
    "with sns.axes_style('ticks'):\n",
    "    sns.regplot(x=x_value, y=y_value, scatter_kws={'s':10})\n",
    "\n",
    "plt.show()"
   ]
  },
  {
   "cell_type": "code",
   "execution_count": null,
   "metadata": {},
   "outputs": [],
   "source": [
    "Y = GDP['GDP_per_capita'].values\n",
    "print(Y)"
   ]
  },
  {
   "cell_type": "code",
   "execution_count": null,
   "metadata": {},
   "outputs": [],
   "source": [
    "X = x_value\n",
    "print(X)"
   ]
  },
  {
   "cell_type": "code",
   "execution_count": null,
   "metadata": {},
   "outputs": [],
   "source": [
    "reg = linear_model.LinearRegression()"
   ]
  },
  {
   "cell_type": "code",
   "execution_count": null,
   "metadata": {},
   "outputs": [],
   "source": [
    "reg.fit(X,Y)"
   ]
  },
  {
   "cell_type": "code",
   "execution_count": null,
   "metadata": {},
   "outputs": [],
   "source": [
    "plt.plot(X, reg.predict(X), color='red',linewidth=3)\n",
    "plt.plot(X,Y,'o')"
   ]
  },
  {
   "cell_type": "markdown",
   "metadata": {},
   "source": [
    "The intercept is the value of Y when the value of X is 0."
   ]
  },
  {
   "cell_type": "code",
   "execution_count": null,
   "metadata": {},
   "outputs": [],
   "source": [
    "print(reg.intercept_)"
   ]
  },
  {
   "cell_type": "code",
   "execution_count": null,
   "metadata": {},
   "outputs": [],
   "source": [
    "X = sm.add_constant(X)\n",
    "model = sm.OLS(Y, X)\n",
    "results = model.fit()\n",
    "print(results.summary())"
   ]
  },
  {
   "cell_type": "markdown",
   "metadata": {},
   "source": [
    "What did you observe?  Which variable had the highest correlation?  What does the coefficient (coef) on the variable tell us about the relationship?\n",
    "\n",
    "How well did it fit the data in the regression?  Look at R-squared as a measure of fit."
   ]
  },
  {
   "cell_type": "markdown",
   "metadata": {},
   "source": [
    "# Prediction: Training and Testing"
   ]
  },
  {
   "cell_type": "markdown",
   "metadata": {},
   "source": [
    "In the previous models, we have been trying to fit our regression to all existing data.  The modeling process can be thought of as a way of explaining patterns in the data.\n",
    "\n",
    "However, in machine learning, **prediction** is often one of the primary applications.  We want a model that will be able to perform well on new, unknown data.  Recommender systems, images classifiers, and many other machine learning tools work like this.\n",
    "\n",
    "How do we get unknown data?  We can simply not use some of our existing data, and pretend that it is unknown.  That is, we build a model based on some of our existing data, the **training** set.  We can then use the remainder of the data as the **testing** set to evaluate the model's performance on data that is has not \"seen\" before.\n",
    "\n",
    "A key rationale for this is to avoid *overfitting*, which results in very accurate models for known data that perform badly on unknown data.\n",
    "\n",
    "We won't discuss rules of thumb for deciding how large your training and testing data sets should be.  That depends on the situation.  Here we will just use a 50/50 split for convenience.\n",
    "\n",
    "Fortunately, Python makes it easy to generate these data splits, thanks to scikit-learn (https://scikit-learn.org)\n",
    "\n",
    "We will run this code on our original life expectancy data, but you can try with the other case studies too. "
   ]
  },
  {
   "cell_type": "code",
   "execution_count": null,
   "metadata": {},
   "outputs": [],
   "source": [
    "from sklearn.model_selection import train_test_split"
   ]
  },
  {
   "cell_type": "code",
   "execution_count": null,
   "metadata": {},
   "outputs": [],
   "source": [
    "Y = life['Life_Expectancy'].values\n",
    "X = life[['Prob_Survival_to_5']]"
   ]
  },
  {
   "cell_type": "code",
   "execution_count": null,
   "metadata": {},
   "outputs": [],
   "source": [
    "X_train, X_test, Y_train, Y_test = train_test_split(X,Y,test_size=1/2,random_state=0)"
   ]
  },
  {
   "cell_type": "code",
   "execution_count": null,
   "metadata": {},
   "outputs": [],
   "source": [
    "reg = linear_model.LinearRegression()\n",
    "reg.fit(X_train,Y_train) "
   ]
  },
  {
   "cell_type": "code",
   "execution_count": null,
   "metadata": {},
   "outputs": [],
   "source": [
    "plt.scatter(X_train, Y_train, color='blue') \n",
    "plt.plot(X_test, reg.predict(X_test), color='red',linewidth=3)\n",
    "plt.title(\"Training\") "
   ]
  },
  {
   "cell_type": "code",
   "execution_count": null,
   "metadata": {},
   "outputs": [],
   "source": [
    "plt.scatter(X_test, Y_test, color='blue') \n",
    "plt.plot(X_test, reg.predict(X_test), color='red',linewidth=3)\n",
    "plt.title(\"Testing\") "
   ]
  },
  {
   "cell_type": "code",
   "execution_count": null,
   "metadata": {},
   "outputs": [],
   "source": [
    "Y_pred = reg.predict(X_test)"
   ]
  },
  {
   "cell_type": "code",
   "execution_count": null,
   "metadata": {},
   "outputs": [],
   "source": [
    "results = pd.DataFrame({'Actual': Y_test, 'Predicted': Y_pred})\n",
    "print(results)"
   ]
  },
  {
   "cell_type": "code",
   "execution_count": null,
   "metadata": {},
   "outputs": [],
   "source": [
    "from sklearn import metrics"
   ]
  },
  {
   "cell_type": "markdown",
   "metadata": {},
   "source": [
    "Root Mean Squared Error (RMSE) is one measure used to evaluate the quality of predictions.  RMSE is not an absolute number, but is used to compare different models to each other. If two models are fit to the same data, a lower RMSE indicates better fit."
   ]
  },
  {
   "cell_type": "code",
   "execution_count": null,
   "metadata": {},
   "outputs": [],
   "source": [
    "print('Root Mean Squared Error:', np.sqrt(metrics.mean_squared_error(Y_test, Y_pred)))"
   ]
  },
  {
   "cell_type": "markdown",
   "metadata": {},
   "source": [
    "We will end our Python discussion of training and testing here, and illustrate training a model via a web application next."
   ]
  },
  {
   "cell_type": "markdown",
   "metadata": {},
   "source": [
    "# Google Teachable Machine"
   ]
  },
  {
   "cell_type": "markdown",
   "metadata": {},
   "source": [
    "With nothing more than your webcam equipped computer, you can experiment with training a model at **Google's Teachable Machine**\n",
    "https://teachablemachine.withgoogle.com\n",
    "\n",
    "We will walk through a bit of training on this site, then leave it to you to continue to experiment.  Try different training routines - see what works well and what confuses the machine.  Show it to others.  \n",
    "\n",
    "On the second day of the workshop, we will start by comparing what we've all found."
   ]
  }
 ],
 "metadata": {
  "colab": {
   "collapsed_sections": [],
   "name": "Lab4Correlation.ipynb",
   "provenance": []
  },
  "kernelspec": {
   "display_name": "Python 3",
   "language": "python",
   "name": "python3"
  },
  "language_info": {
   "codemirror_mode": {
    "name": "ipython",
    "version": 3
   },
   "file_extension": ".py",
   "mimetype": "text/x-python",
   "name": "python",
   "nbconvert_exporter": "python",
   "pygments_lexer": "ipython3",
   "version": "3.7.7"
  }
 },
 "nbformat": 4,
 "nbformat_minor": 4
}
