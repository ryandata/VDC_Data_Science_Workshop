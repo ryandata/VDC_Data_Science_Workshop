{
 "cells": [
  {
   "cell_type": "markdown",
   "metadata": {
    "colab_type": "text",
    "id": "4qRZlH9K22f_"
   },
   "source": [
    "# Data Exploration\n",
    "## Virtual Data Collaboratory Undergraduate Data Science Workshop\n",
    "## November 12, 2020\n",
    "\n",
    "## Instructor: Ryan Womack\n",
    "\n",
    "# Topics\n",
    "- Introduction to Python and Jupyter Notebook environment\n",
    "- Data handling and data exploration using descriptive statistics and data visualization\n",
    "- Statistical analysis of a dataset using correlation and regression\n",
    "- Introduction to the concept of training and testing data splits for machine learning and forecasting applications"
   ]
  },
  {
   "cell_type": "markdown",
   "metadata": {},
   "source": [
    "## About Jupyter Notebooks and Python\n",
    "Python is a general purpose computing language. Some of you may be familiar with it.  It is arguably the most popular language for data science applications due to the large number of statistical and computing modules that have been created for working with data.\n",
    "\n",
    "The Jupyter Notebook is an interactive environment that allows Python code (and other programming languages) to be run alongside explanatory text (like this text), and to view results of code in the same document.  For this reason, it is particularly useful for learning and exploration."
   ]
  },
  {
   "cell_type": "markdown",
   "metadata": {
    "id": "HiLWA78W22gC"
   },
   "source": [
    "## Executing Code\n",
    "You can run the code cells in a Jupyter notebook by clicking in the cell and either clicking \"Run\" in the menu, or by selecting the keys \"Control + Enter\".  In Google Colab, you can also press the \"Play\" button icon.  The numbers that will appear to the left of the cell indicate the order in which commands are run.  It is important to run commands in the proper sequence."
   ]
  },
  {
   "cell_type": "markdown",
   "metadata": {},
   "source": [
    "## Importing Python modules\n",
    "Using Python typically involves loading several specialized modules.  These modules contain many of the graphing and statistical tools we will use.  Run the following cell to import these modules and their specific features.  In this session we are focused on the data exploration process and not the Python language itself, but by seeing this code in action, you can get a sense of what your own Python programming might involve."
   ]
  },
  {
   "cell_type": "code",
   "execution_count": 3,
   "metadata": {
    "id": "dzk7Plly22gQ"
   },
   "outputs": [
    {
     "ename": "ModuleNotFoundError",
     "evalue": "No module named 'google'",
     "output_type": "error",
     "traceback": [
      "\u001b[0;31m---------------------------------------------------------------------------\u001b[0m",
      "\u001b[0;31mModuleNotFoundError\u001b[0m                       Traceback (most recent call last)",
      "\u001b[0;32m<ipython-input-3-19e34fa5280a>\u001b[0m in \u001b[0;36m<module>\u001b[0;34m\u001b[0m\n\u001b[1;32m     11\u001b[0m \u001b[0;32mfrom\u001b[0m \u001b[0msklearn\u001b[0m \u001b[0;32mimport\u001b[0m \u001b[0mlinear_model\u001b[0m\u001b[0;34m\u001b[0m\u001b[0;34m\u001b[0m\u001b[0m\n\u001b[1;32m     12\u001b[0m \u001b[0;34m\u001b[0m\u001b[0m\n\u001b[0;32m---> 13\u001b[0;31m \u001b[0;32mfrom\u001b[0m \u001b[0mgoogle\u001b[0m\u001b[0;34m.\u001b[0m\u001b[0mcolab\u001b[0m \u001b[0;32mimport\u001b[0m \u001b[0mfiles\u001b[0m\u001b[0;34m\u001b[0m\u001b[0;34m\u001b[0m\u001b[0m\n\u001b[0m\u001b[1;32m     14\u001b[0m \u001b[0;34m\u001b[0m\u001b[0m\n\u001b[1;32m     15\u001b[0m \u001b[0;31m# \"Magic\" command below allows you to see plot in the notebook\u001b[0m\u001b[0;34m\u001b[0m\u001b[0;34m\u001b[0m\u001b[0;34m\u001b[0m\u001b[0m\n",
      "\u001b[0;31mModuleNotFoundError\u001b[0m: No module named 'google'"
     ]
    }
   ],
   "source": [
    "# Run this cell, but please don't change it.\n",
    "\n",
    "# These lines import Numpy and Pandas for data analysis, and Seaborn and Matplotlib for visualization\n",
    "\n",
    "import numpy as np\n",
    "import matplotlib.pyplot as plt\n",
    "import matplotlib.cm as cm\n",
    "import pandas as pd\n",
    "import seaborn as sns\n",
    "from statsmodels.api import OLS\n",
    "from sklearn import linear_model\n",
    "\n",
    "from google.colab import files\n",
    "\n",
    "# \"Magic\" command below allows you to see plot in the notebook\n",
    "%matplotlib inline"
   ]
  },
  {
   "cell_type": "markdown",
   "metadata": {},
   "source": [
    "## Mount Google Drive\n",
    "\n",
    "One additional piece of setup.  We need to first mount the Google Drive in Colab before we can read data from Google Drive."
   ]
  },
  {
   "cell_type": "code",
   "execution_count": null,
   "metadata": {},
   "outputs": [],
   "source": [
    "from google.colab import drive\n",
    "drive.mount('/content/drive')"
   ]
  },
  {
   "cell_type": "markdown",
   "metadata": {},
   "source": [
    "## Working with Data\n",
    "In most real-world data analysis situations, you must spend a significant amount of time to learn about your data and clean and prepare it for analysis.  We will work with a few datasets that have already been set up for you, so that you can focus on the concepts involved, instead of the details of data preparation.\n",
    "\n",
    "We will work through one example togther, then you will have a choice of datasets to try out as an exercise."
   ]
  },
  {
   "cell_type": "markdown",
   "metadata": {
    "colab_type": "text",
    "id": "1oPGIRrR22gc"
   },
   "source": [
    "# Life Expectancy\n",
    "\n",
    "This dataset is an extract from the World Bank's Gender Statistics dataset, using 2018 data.  \n",
    "https://datacatalog.worldbank.org/dataset/gender-statistics\n",
    "\n",
    "We will look at *life expectancy* among females in various countries around the world, and try to understand some other variables that relate to it."
   ]
  },
  {
   "cell_type": "markdown",
   "metadata": {},
   "source": [
    "## Importing Data\n",
    "\n",
    "We read data directly from its web location (the github site for this workshop).  "
   ]
  },
  {
   "cell_type": "code",
   "execution_count": 60,
   "metadata": {},
   "outputs": [],
   "source": [
    "life = pd.read_csv('https://github.com/ryandata/VDC_Data_Science_Workshop/raw/main/life.csv')"
   ]
  },
  {
   "cell_type": "markdown",
   "metadata": {},
   "source": [
    "Print the data to see it and make sure that it is loaded correctly."
   ]
  },
  {
   "cell_type": "code",
   "execution_count": null,
   "metadata": {
    "id": "KDdpAFnqPe25"
   },
   "outputs": [],
   "source": [
    "print(life)"
   ]
  },
  {
   "cell_type": "markdown",
   "metadata": {},
   "source": [
    "We use a few other commands to explore the data.  Columns lets us see the variable names. Shape lets us see the dimensions of the data. Info lets us see the variable formats."
   ]
  },
  {
   "cell_type": "code",
   "execution_count": null,
   "metadata": {
    "colab": {},
    "colab_type": "code",
    "id": "NhqTOCqwQ2aR"
   },
   "outputs": [],
   "source": [
    "life.columns"
   ]
  },
  {
   "cell_type": "code",
   "execution_count": null,
   "metadata": {},
   "outputs": [],
   "source": [
    "life.shape"
   ]
  },
  {
   "cell_type": "code",
   "execution_count": null,
   "metadata": {},
   "outputs": [],
   "source": [
    "life.info()"
   ]
  },
  {
   "cell_type": "markdown",
   "metadata": {},
   "source": [
    "Describe provides summary statistics of each variable"
   ]
  },
  {
   "cell_type": "code",
   "execution_count": null,
   "metadata": {},
   "outputs": [],
   "source": [
    "life.describe()"
   ]
  },
  {
   "cell_type": "markdown",
   "metadata": {
    "colab_type": "text",
    "id": "g2txIYtZSD9N"
   },
   "source": [
    "Who has the highest life expectancy?\n",
    "Let's sort the data and look at the top ranking countries."
   ]
  },
  {
   "cell_type": "code",
   "execution_count": null,
   "metadata": {},
   "outputs": [],
   "source": [
    "life.sort_values(by='Life_Expectancy', ascending=False).head()"
   ]
  },
  {
   "cell_type": "markdown",
   "metadata": {
    "colab_type": "text",
    "id": "eXsoWIzb22gx"
   },
   "source": [
    "## Visualize the relationship between two variables using a scatter plot\n",
    "\n",
    "Plot each data point according to the value of two of the variables.  Observe the pattern that results.\n",
    "\n",
    "Closely grouped and steeply sloped lines will indicate a strong relationship between variables.  Note that the relationship may not always be linear.  Learning to work with more complex models that capture these nuances of the relationships is a key part of data science. \n",
    "\n",
    "Note: We are using the *seaborn* package for visualization in Python.  Along with *matplotlib*, it is one of the most commonly used visualization tools for Python."
   ]
  },
  {
   "cell_type": "markdown",
   "metadata": {},
   "source": [
    "First, we compare Life Expectancy to Mortality Rate.  What can we say about this relationship?"
   ]
  },
  {
   "cell_type": "code",
   "execution_count": null,
   "metadata": {},
   "outputs": [],
   "source": [
    "x_value = life['Mortality_Rate']\n",
    "y_value = life['Life_Expectancy']\n",
    "\n",
    "with sns.axes_style('ticks'):\n",
    "    sns.scatterplot(x=x_value, y=y_value)\n",
    "\n",
    "plt.show()"
   ]
  },
  {
   "cell_type": "markdown",
   "metadata": {},
   "source": [
    "We can also compare all variables to each other using a pair plot."
   ]
  },
  {
   "cell_type": "code",
   "execution_count": null,
   "metadata": {},
   "outputs": [],
   "source": [
    "sns.pairplot(life)"
   ]
  },
  {
   "cell_type": "markdown",
   "metadata": {},
   "source": [
    "We can also look at how data is distributed--for example, Life Expectancy.  One way is via a histogram."
   ]
  },
  {
   "cell_type": "code",
   "execution_count": null,
   "metadata": {},
   "outputs": [],
   "source": [
    "sns.displot(y_value)"
   ]
  },
  {
   "cell_type": "markdown",
   "metadata": {},
   "source": [
    "Another is by estimating the distribution of the data (Kernel Density Estimation)"
   ]
  },
  {
   "cell_type": "code",
   "execution_count": null,
   "metadata": {},
   "outputs": [],
   "source": [
    "sns.displot(y_value, kind=\"kde\")"
   ]
  },
  {
   "cell_type": "markdown",
   "metadata": {},
   "source": [
    "Or we can combine both on the same plot."
   ]
  },
  {
   "cell_type": "code",
   "execution_count": null,
   "metadata": {},
   "outputs": [],
   "source": [
    "sns.displot(y_value, kde=\"True\")"
   ]
  },
  {
   "cell_type": "markdown",
   "metadata": {},
   "source": [
    "Our final visualization returns us to the scatterplot, but with a **regression line** through the data.  This line is the best linear fit to the data, and can be viewed as estimating the relationship between x and y, if that relationship were reduced to a linear equation.  The process of computing this estimate is called **regression**."
   ]
  },
  {
   "cell_type": "code",
   "execution_count": null,
   "metadata": {},
   "outputs": [],
   "source": [
    "x_value = life['Mortality_Rate']\n",
    "y_value = life['Life_Expectancy']\n",
    "\n",
    "# Plotting regression, with figure-specific style change to white/grid-less background\n",
    "with sns.axes_style('ticks'):\n",
    "    sns.regplot(x=x_value, y=y_value, scatter_kws={'s':10})\n",
    "\n",
    "plt.show()"
   ]
  },
  {
   "cell_type": "markdown",
   "metadata": {},
   "source": [
    "# Correlation and Regression"
   ]
  },
  {
   "cell_type": "markdown",
   "metadata": {},
   "source": [
    "## Correlation\n",
    "**Correlation** is a measure of the strength of the relationship between two variables, ranging from -1 (strongest negative relationship) to 0 (no relationship) to 1 (strongest positive relationship). The relationship may be causal or simply an association, but if a correlation is present, knowing something about one variable means we can make an educated guess, or prediction, about the second variable.\n",
    "We can test the correlation between two variables, such as Life Expectancy and Mortality Rate:"
   ]
  },
  {
   "cell_type": "code",
   "execution_count": 61,
   "metadata": {},
   "outputs": [
    {
     "data": {
      "text/plain": [
       "-0.9420689078708613"
      ]
     },
     "execution_count": 61,
     "metadata": {},
     "output_type": "execute_result"
    }
   ],
   "source": [
    "life['Mortality_Rate'].corr(life['Life_Expectancy'])"
   ]
  },
  {
   "cell_type": "markdown",
   "metadata": {},
   "source": [
    "Or we can look at all of the correlations in a dataset."
   ]
  },
  {
   "cell_type": "code",
   "execution_count": null,
   "metadata": {},
   "outputs": [],
   "source": [
    "life.corr()"
   ]
  },
  {
   "cell_type": "markdown",
   "metadata": {},
   "source": [
    "Here \"Probability of Survival to Age 5\" has the highest correlation (in absolute value) to Life Expectancy, so it might be one of the first variables to consider when building a regression model to explain the relationship."
   ]
  },
  {
   "cell_type": "markdown",
   "metadata": {},
   "source": [
    "We can also visualize the correlation matrix."
   ]
  },
  {
   "cell_type": "code",
   "execution_count": null,
   "metadata": {},
   "outputs": [],
   "source": [
    "corr_mat = life.corr().stack().reset_index(name=\"correlation\")\n",
    "sns.relplot(\n",
    "    data=corr_mat,\n",
    "    x=\"level_0\", y=\"level_1\", hue=\"correlation\", size=\"correlation\",\n",
    "    palette=\"vlag\", hue_norm=(-1, 1), edgecolor=\".7\",\n",
    "    height=10, sizes=(50, 250)\n",
    ")\n"
   ]
  },
  {
   "cell_type": "markdown",
   "metadata": {},
   "source": [
    "## Regression\n",
    "\n",
    "Our final step will be to actually compute the regression equation.  Here we build a model with some of the likely variables, and see how much explanatory power it has.  Our equation will be of the form\n",
    "*y* = *c* + a1*x1* + a2*x2* + ... an*xn*\n",
    "where *y* is our *response* variable (or dependent variable), which we are trying to explain. The *x* variables represent the *explanatory* variables (or independent variables) that we believe affect *y*.  The a's are coefficients on the *x* variables. Finally, *c* is a constant that will be computed by the regression process.\n",
    "The key is to choose the *x* variables wisely. We will start with the one that has the highest correlation to *y*, and then move down the list.\n",
    "In the case of Life Expectancy, we found that Probablity of Survival to age 5 was most closely related, so we build the regression as follows."
   ]
  },
  {
   "cell_type": "markdown",
   "metadata": {},
   "source": [
    "Note that we are using the linear regression tools from *scikit-learn*.  Scikit-learn (https://scikit-learn.org/) is one of the most powerful and popular tools for machine learning in Python."
   ]
  },
  {
   "cell_type": "markdown",
   "metadata": {},
   "source": [
    "Specify our Y and X for the model"
   ]
  },
  {
   "cell_type": "code",
   "execution_count": null,
   "metadata": {},
   "outputs": [],
   "source": [
    "Y = life['Life_Expectancy'].values\n",
    "print(Y)"
   ]
  },
  {
   "cell_type": "code",
   "execution_count": null,
   "metadata": {},
   "outputs": [],
   "source": [
    "X=life[['Prob_Survival_to_5']]\n",
    "print(X)"
   ]
  },
  {
   "cell_type": "markdown",
   "metadata": {},
   "source": [
    "The next step is necessary to convert the data into a form that the regression algorithm can process."
   ]
  },
  {
   "cell_type": "markdown",
   "metadata": {},
   "source": [
    "Create linear regression object"
   ]
  },
  {
   "cell_type": "code",
   "execution_count": null,
   "metadata": {},
   "outputs": [],
   "source": [
    "reg = linear_model.LinearRegression()"
   ]
  },
  {
   "cell_type": "markdown",
   "metadata": {},
   "source": [
    "Fit the model"
   ]
  },
  {
   "cell_type": "code",
   "execution_count": null,
   "metadata": {},
   "outputs": [],
   "source": [
    "reg.fit(X, Y)"
   ]
  },
  {
   "cell_type": "markdown",
   "metadata": {},
   "source": [
    "Plot the results"
   ]
  },
  {
   "cell_type": "code",
   "execution_count": null,
   "metadata": {},
   "outputs": [],
   "source": [
    "plt.plot(X, reg.predict(X), color='red',linewidth=3)\n",
    "plt.plot(X,Y,'o')"
   ]
  },
  {
   "cell_type": "markdown",
   "metadata": {},
   "source": [
    "print(reg.intercept_)We can also get some very detailed statistics on the regression fit.  For now, just look at two things in the output below.  \n",
    "*R-squared* is one measure of how good the fit it.  It ranges from 0 to 1, with 1 meaning that the equation completely explains all of the variance in the data (best fit).  There is a bit more to it than that, but that is a good enough approximation for now.\n",
    "The *coef* is the coefficient on our explanatory variable.  It this case, it means we can take the Probability of Survival to Age 5 and multiply it by 77 to get an estimate of Life Expectancy that will be reasonably accurate.\n",
    "This gives you a sense of how regression can work as a predictor. We'll return to that topic later."
   ]
  },
  {
   "cell_type": "markdown",
   "metadata": {},
   "source": [
    "The intercept is the value of Y when X is 0."
   ]
  },
  {
   "cell_type": "code",
   "execution_count": null,
   "metadata": {},
   "outputs": [],
   "source": [
    "print(reg.intercept_)"
   ]
  },
  {
   "cell_type": "code",
   "execution_count": null,
   "metadata": {},
   "outputs": [],
   "source": [
    "OLS(Y,X).fit().summary()"
   ]
  },
  {
   "cell_type": "markdown",
   "metadata": {},
   "source": [
    "We can also consider multiple regression, with more than one explanatory variable, along with many other variations.  In the interest of time, however, we'll just be using one variable models in this workshop."
   ]
  },
  {
   "cell_type": "markdown",
   "metadata": {
    "colab_type": "text",
    "id": "sHymHS0G22g9"
   },
   "source": [
    "# Exercises/Case Studies\n",
    "What follows are 4 case studies that you will work through as individual exercises.  Choose ONE that interests you, and explore the data using our tools for data exploration, visualization, and regression.\n",
    "The cases are:\n",
    "    - Cardiovascular Disease (Science)\n",
    "    - World Development (Social Science)\n",
    "    - World Economy (Business/Economics)\n",
    "    - Environment (Another Science)\n",
    "    \n",
    "In each case, there are only a few \"moving parts\" - cells where you will edit the code to select variables and parameters.  Look for the **EDIT HERE** statement.  Be careful to run cells in order."
   ]
  },
  {
   "cell_type": "markdown",
   "metadata": {
    "colab_type": "text",
    "id": "UpYQ9Z7q22g-"
   },
   "source": [
    "## Case Study 1: Cardiovascular Disease\n",
    "\n",
    "The original data has records of 70,000 patients.  See\n",
    "https://www.kaggle.com/sulianova/cardiovascular-disease-dataset for details.  The dataset presented for this class is a sample of 1000 patients (for rapid analysis), and has been cleaned of outliers.\n",
    "\n",
    "The variable \"cardio\" is an indicator of whether or not cardiovascular disease is present.  For now, let's try to predict what is linked to high blood pressure (ap_hi in the dataset)."
   ]
  },
  {
   "cell_type": "code",
   "execution_count": 4,
   "metadata": {},
   "outputs": [],
   "source": [
    "cardio = pd.read_csv('https://github.com/ryandata/VDC_Data_Science_Workshop/raw/main/cardio.csv')"
   ]
  },
  {
   "cell_type": "code",
   "execution_count": null,
   "metadata": {},
   "outputs": [],
   "source": [
    "cardio.columns"
   ]
  },
  {
   "cell_type": "code",
   "execution_count": null,
   "metadata": {},
   "outputs": [],
   "source": [
    "cardio.shape"
   ]
  },
  {
   "cell_type": "code",
   "execution_count": null,
   "metadata": {},
   "outputs": [],
   "source": [
    "cardio.info()"
   ]
  },
  {
   "cell_type": "code",
   "execution_count": null,
   "metadata": {},
   "outputs": [],
   "source": [
    "cardio.describe()"
   ]
  },
  {
   "cell_type": "markdown",
   "metadata": {},
   "source": [
    "Some variables are categorical - for example, the cholesterol level is given a rating from 1 to 3 (good to worst). For a zero-one variable like smoking, a zero typically means \"no\" (in this case non-smoking) or \"yes\" (smoking).  "
   ]
  },
  {
   "cell_type": "code",
   "execution_count": null,
   "metadata": {},
   "outputs": [],
   "source": [
    "cardio.sort_values(by='weight', ascending=False).head()"
   ]
  },
  {
   "cell_type": "markdown",
   "metadata": {},
   "source": [
    "What do you notice about the highest weight patients?  What is the cardiovascular disease status?"
   ]
  },
  {
   "cell_type": "code",
   "execution_count": null,
   "metadata": {},
   "outputs": [],
   "source": [
    "sns.pairplot(cardio)"
   ]
  },
  {
   "cell_type": "markdown",
   "metadata": {},
   "source": [
    "Here the pairplot is a bit hairy.  There are many variables, and the categorical variables are hard to interpret with this kind of visualization.  We can move on to examining individual combinations, such as weight against blood pressure (below)."
   ]
  },
  {
   "cell_type": "code",
   "execution_count": 6,
   "metadata": {},
   "outputs": [
    {
     "data": {
      "image/png": "[encoded data removed]",
      "text/plain": [
       "<Figure size 432x288 with 1 Axes>"
      ]
     },
     "metadata": {},
     "output_type": "display_data"
    }
   ],
   "source": [
    "x_value = cardio['weight']\n",
    "y_value = cardio['ap_hi']\n",
    "\n",
    "# Plotting regression, with figure-specific style change to white/grid-less background\n",
    "with sns.axes_style('ticks'):\n",
    "    sns.regplot(x=x_value, y=y_value, scatter_kws={'s':10})\n",
    "\n",
    "plt.show()"
   ]
  },
  {
   "cell_type": "markdown",
   "metadata": {},
   "source": [
    "Plotting the distribution of the response variable, blood pressure."
   ]
  },
  {
   "cell_type": "code",
   "execution_count": null,
   "metadata": {},
   "outputs": [],
   "source": [
    "sns.displot(y_value)"
   ]
  },
  {
   "cell_type": "code",
   "execution_count": null,
   "metadata": {},
   "outputs": [],
   "source": [
    "sns.displot(y_value, kde=\"True\")"
   ]
  },
  {
   "cell_type": "markdown",
   "metadata": {},
   "source": [
    "Check the correlation of variables with cardio.  Which one has the highest correlation to blood pressure (ap_hi)?"
   ]
  },
  {
   "cell_type": "code",
   "execution_count": null,
   "metadata": {},
   "outputs": [],
   "source": [
    "cardio.corr()"
   ]
  },
  {
   "cell_type": "markdown",
   "metadata": {},
   "source": [
    "Let's visualize the correlations too."
   ]
  },
  {
   "cell_type": "code",
   "execution_count": 21,
   "metadata": {},
   "outputs": [
    {
     "data": {
      "text/plain": [
       "<seaborn.axisgrid.FacetGrid at 0x7fe382356f10>"
      ]
     },
     "execution_count": 21,
     "metadata": {},
     "output_type": "execute_result"
    },
    {
     "data": {
      "image/png": "[encoded data removed]",
      "text/plain": [
       "<Figure size 781.625x720 with 1 Axes>"
      ]
     },
     "metadata": {
      "needs_background": "light"
     },
     "output_type": "display_data"
    }
   ],
   "source": [
    "corr_mat = cardio.corr().stack().reset_index(name=\"correlation\")\n",
    "sns.relplot(\n",
    "    data=corr_mat,\n",
    "    x=\"level_0\", y=\"level_1\", hue=\"correlation\", size=\"correlation\",\n",
    "    palette=\"vlag\", hue_norm=(-1, 1), edgecolor=\".7\",\n",
    "    height=10, sizes=(50, 250)\n",
    ")"
   ]
  },
  {
   "cell_type": "markdown",
   "metadata": {},
   "source": [
    "Time for you to choose.  Which variable has the closest relationship to blood pressure (ap_hi)?  Enter the name of that variable below.\n",
    "\n",
    "## **EDIT HERE**\n",
    "Put your variable choice inside the quote marks below.  For example, you could replace 'weight' with 'height' or 'cholesterol' as *my_var*"
   ]
  },
  {
   "cell_type": "code",
   "execution_count": 47,
   "metadata": {},
   "outputs": [],
   "source": [
    "my_var = 'smoke'"
   ]
  },
  {
   "cell_type": "code",
   "execution_count": 48,
   "metadata": {},
   "outputs": [],
   "source": [
    "x_value = cardio[[my_var]]"
   ]
  },
  {
   "cell_type": "markdown",
   "metadata": {},
   "source": [
    "The correlation between your variable and ap_hi is"
   ]
  },
  {
   "cell_type": "code",
   "execution_count": 49,
   "metadata": {},
   "outputs": [
    {
     "data": {
      "text/plain": [
       "0.04513825699006349"
      ]
     },
     "execution_count": 49,
     "metadata": {},
     "output_type": "execute_result"
    }
   ],
   "source": [
    "cardio[my_var].corr(cardio['ap_hi'])"
   ]
  },
  {
   "cell_type": "code",
   "execution_count": 50,
   "metadata": {},
   "outputs": [
    {
     "data": {
      "image/png": "[encoded data removed]",
      "text/plain": [
       "<Figure size 432x288 with 1 Axes>"
      ]
     },
     "metadata": {},
     "output_type": "display_data"
    }
   ],
   "source": [
    "y_value = cardio['ap_hi']\n",
    "\n",
    "# Plotting regression, with figure-specific style change to white/grid-less background\n",
    "with sns.axes_style('ticks'):\n",
    "    sns.regplot(x=x_value, y=y_value, scatter_kws={'s':10})\n",
    "\n",
    "plt.show()"
   ]
  },
  {
   "cell_type": "code",
   "execution_count": 12,
   "metadata": {},
   "outputs": [
    {
     "name": "stdout",
     "output_type": "stream",
     "text": [
      "[120 110 120 140 200  90 120 120 120 110 135 140 140 130 150 120 120 140\n",
      " 140 160 120 120 120 140 120 120 160 130 110 120 120 120 120  90 120 140\n",
      " 135 140 120 100 140 130 120 140 140 120 110 130 120 120 140 120 100 120\n",
      " 110 130 120 120 120 140 130 160 150 120 120 120 120 110 120 150 110 120\n",
      " 130 125 160 120 120 120 120 120 140 140 120 110 120 120 120 120 120 120\n",
      " 130 120 130 140 130 120 130 130 120 120 180 120 140 130 100 140 130 120\n",
      " 130 120 110 100 120 150 180 160 110 120 128 140 120 140 120 110 120 120\n",
      " 130 130 130 120 110 120 150 130 120 120 125 115 130 120 150 140 110 140\n",
      " 130 100 130 120 120 145 180 140 120 120 120 110 130 150 120  90 130 120\n",
      " 120 120 120 140 120 150 120 120 140 120 130 140 180  90 140 140 160 130\n",
      " 150 120 120 130 120 110 110 120 140 120 110 120 110 110 120 170 130 120\n",
      " 130 140  90 110 120  90 140 120 130 120 115 140 140 120 140 130 150 160\n",
      " 120 120 120 110 110 120 120 130 110 120 120 120 120 140 140 120 140 140\n",
      " 145 120 120 130 120 120 130 140 120 120 130 120 130 130 130 140  90 110\n",
      " 120 210 120 120 110 120 120 110 120 140 130 160 100 120 120 120 160 110\n",
      " 120 170 130 120 110 140 120 120 120 150 150 140 160 120 120 120 120 130\n",
      " 130 120 120 140 180 110 120 120 130 110 150 120 110 120 180 110 160 140\n",
      " 110 120 120 110 140 130 140 120 120 150 130 135 120 120 120 120 120 120\n",
      " 120 150 130 130 130 150 110 140 150 150 110 120 120 120 120 110 110 160\n",
      " 120 120 160 120 120 140 110 110 120 140 150 170 110 150 140 120 140 130\n",
      " 110 160 130 150 125  90 140 120 160 110 110 140 120 150 120 120 120 120\n",
      " 100 140 145 110 100 120 130 165 140 140 120 110 140 120 130 110 140 120\n",
      " 120 120 130 140 120 140 140 170 100 120 120 110 140 120 110 140 120 120\n",
      " 150 110 120 120 140 120 110 120 120 140 120 140 140 120 170 160 160 120\n",
      " 140 120 130 120 120 120 100 140 130 130 130 110 140 120 120 160 110 140\n",
      " 130 120 120 110 130 130 140 120 130 130 170 100 150 120 130 120 160 150\n",
      " 120 120 120 120 170 110 120 120 110 120 160 120  90 120 120 100 120 120\n",
      " 150 130 120 120 130 100 140 140 140 140 120 120 120 130 130 120 110 120\n",
      " 150 120 130 100 120 120 120 130 110 140 150 145 120 120 120 130 130 100\n",
      " 120 130 130 120 120 120 145 150 140 120 120 120 120 100 150 150 120 160\n",
      " 150 130 120 130 120 120 120 120 120 130 120 120 120 130 120 140 120 110\n",
      " 120 118 130 130 140 110 140 120 120 120 140 110 140 120 120 120 120 140\n",
      " 110 120 137 100 120 110 120 120 120 160 120 130 165 110 120 150 120 150\n",
      " 135 120 130 120 145 120 120 120 130 170 120 120 140 160 120 138 150 120\n",
      " 120 110 120 120 120 120 120 170 120 140 110 145 150 120 100 120 120 140\n",
      " 120 130 140 120 140 120 120 110 120 120 150 140 100 130 160 120 120 120\n",
      " 120 100 140 110 110 120 120 110 110 100 120 110 110 150 180 120 100 120\n",
      " 180  90 120 150 140 140 120 130 120 120 110 150 150 130 140 140 120 140\n",
      " 130 110 160 125 130 121 120 130 120 120 160 120 120 148 120 120 120 120\n",
      " 120 120 150 120 120 150 180  90 145 130 120 130 120 130 125 140 120 120\n",
      " 110 115 120 160 120 120 120 120 120 120 150 120 120 120 110 120  90 120\n",
      " 150  90 120 140 130 110 140  12 130 110 140 135 120 140 120 150 130 125\n",
      " 120 120 130 160 120 140 120 110 100 100 120 100 120 110 120  90 160 100\n",
      " 120 130 138 100 130 120 140 130 110 130 130 120 120 130  90 140 120 120\n",
      " 110 160  90 120 120 110 110 150 130 120 100 110 120 110 120 140 110 140\n",
      " 140 120 130 140 120 120 140 120 120 130 120 120 130 140 110 120 110 151\n",
      " 120 120 120 160 120 160 130 130 140 140 130 140 150 130 110 140 120 120\n",
      " 140 130 110 120 120 120 120 120 145 130 120 150 120 120 120 120 120 110\n",
      " 120 130 130 150 140 120 130 100 130 120 140 110 120 140 120 120 120 140\n",
      " 120 140 120 110 120 140 110 120 120 130 100 120 150 130  80 110 140 120\n",
      " 120 120 100 120 160 120 140 120 124 120 120 150 120 120 120 130 170 120\n",
      " 140 130 140 140 150 130 110 120 140 140 160 160 140 120 130 150 120 130\n",
      " 130 130 120 120 120 140 120 140 120 100 150 140 160 120 120 120 150 140\n",
      " 120 130 120 130 120 120 120 130 138 130 150 120 110 140 120 120 120 120\n",
      " 120 110 110 130 120 120 130 140 120 110 120 120 120 120 150 120 110 120\n",
      " 120 150 120 120 110 150 120 130 100 130]\n"
     ]
    }
   ],
   "source": [
    "Y = cardio['ap_hi'].values\n",
    "print(Y)"
   ]
  },
  {
   "cell_type": "code",
   "execution_count": 51,
   "metadata": {},
   "outputs": [
    {
     "name": "stdout",
     "output_type": "stream",
     "text": [
      "     smoke\n",
      "0        0\n",
      "1        0\n",
      "2        0\n",
      "3        0\n",
      "4        1\n",
      "..     ...\n",
      "995      0\n",
      "996      0\n",
      "997      0\n",
      "998      0\n",
      "999      0\n",
      "\n",
      "[1000 rows x 1 columns]\n"
     ]
    }
   ],
   "source": [
    "X = x_value\n",
    "print(X)"
   ]
  },
  {
   "cell_type": "code",
   "execution_count": 53,
   "metadata": {},
   "outputs": [],
   "source": [
    "reg = linear_model.LinearRegression()"
   ]
  },
  {
   "cell_type": "code",
   "execution_count": 54,
   "metadata": {},
   "outputs": [
    {
     "data": {
      "text/plain": [
       "LinearRegression()"
      ]
     },
     "execution_count": 54,
     "metadata": {},
     "output_type": "execute_result"
    }
   ],
   "source": [
    "reg.fit(X,Y)"
   ]
  },
  {
   "cell_type": "code",
   "execution_count": 55,
   "metadata": {},
   "outputs": [
    {
     "data": {
      "text/plain": [
       "[<matplotlib.lines.Line2D at 0x7fe381dcc890>]"
      ]
     },
     "execution_count": 55,
     "metadata": {},
     "output_type": "execute_result"
    },
    {
     "data": {
      "image/png": "[encoded data removed]",
      "text/plain": [
       "<Figure size 432x288 with 1 Axes>"
      ]
     },
     "metadata": {
      "needs_background": "light"
     },
     "output_type": "display_data"
    }
   ],
   "source": [
    "plt.plot(X, reg.predict(X), color='red',linewidth=3)\n",
    "plt.plot(X,Y,'o')"
   ]
  },
  {
   "cell_type": "markdown",
   "metadata": {},
   "source": [
    "The intercept is the value of Y when the value of X is 0."
   ]
  },
  {
   "cell_type": "code",
   "execution_count": null,
   "metadata": {},
   "outputs": [],
   "source": [
    "print(reg.intercept_)"
   ]
  },
  {
   "cell_type": "code",
   "execution_count": 56,
   "metadata": {},
   "outputs": [
    {
     "data": {
      "text/html": [
       "<table class=\"simpletable\">\n",
       "<caption>OLS Regression Results</caption>\n",
       "<tr>\n",
       "  <th>Dep. Variable:</th>            <td>y</td>        <th>  R-squared (uncentered):</th>      <td>   0.094</td> \n",
       "</tr>\n",
       "<tr>\n",
       "  <th>Model:</th>                   <td>OLS</td>       <th>  Adj. R-squared (uncentered):</th> <td>   0.093</td> \n",
       "</tr>\n",
       "<tr>\n",
       "  <th>Method:</th>             <td>Least Squares</td>  <th>  F-statistic:       </th>          <td>   103.5</td> \n",
       "</tr>\n",
       "<tr>\n",
       "  <th>Date:</th>             <td>Tue, 10 Nov 2020</td> <th>  Prob (F-statistic):</th>          <td>3.44e-23</td> \n",
       "</tr>\n",
       "<tr>\n",
       "  <th>Time:</th>                 <td>08:10:37</td>     <th>  Log-Likelihood:    </th>          <td> -6220.0</td> \n",
       "</tr>\n",
       "<tr>\n",
       "  <th>No. Observations:</th>      <td>  1000</td>      <th>  AIC:               </th>          <td>1.244e+04</td>\n",
       "</tr>\n",
       "<tr>\n",
       "  <th>Df Residuals:</th>          <td>   999</td>      <th>  BIC:               </th>          <td>1.245e+04</td>\n",
       "</tr>\n",
       "<tr>\n",
       "  <th>Df Model:</th>              <td>     1</td>      <th>                     </th>              <td> </td>    \n",
       "</tr>\n",
       "<tr>\n",
       "  <th>Covariance Type:</th>      <td>nonrobust</td>    <th>                     </th>              <td> </td>    \n",
       "</tr>\n",
       "</table>\n",
       "<table class=\"simpletable\">\n",
       "<tr>\n",
       "    <td></td>       <th>coef</th>     <th>std err</th>      <th>t</th>      <th>P>|t|</th>  <th>[0.025</th>    <th>0.975]</th>  \n",
       "</tr>\n",
       "<tr>\n",
       "  <th>smoke</th> <td>  129.0543</td> <td>   12.688</td> <td>   10.171</td> <td> 0.000</td> <td>  104.155</td> <td>  153.953</td>\n",
       "</tr>\n",
       "</table>\n",
       "<table class=\"simpletable\">\n",
       "<tr>\n",
       "  <th>Omnibus:</th>       <td>430.631</td> <th>  Durbin-Watson:     </th> <td>   0.212</td>\n",
       "</tr>\n",
       "<tr>\n",
       "  <th>Prob(Omnibus):</th> <td> 0.000</td>  <th>  Jarque-Bera (JB):  </th> <td>1544.695</td>\n",
       "</tr>\n",
       "<tr>\n",
       "  <th>Skew:</th>          <td>-2.141</td>  <th>  Prob(JB):          </th> <td>    0.00</td>\n",
       "</tr>\n",
       "<tr>\n",
       "  <th>Kurtosis:</th>      <td> 7.328</td>  <th>  Cond. No.          </th> <td>    1.00</td>\n",
       "</tr>\n",
       "</table><br/><br/>Notes:<br/>[1] R² is computed without centering (uncentered) since the model does not contain a constant.<br/>[2] Standard Errors assume that the covariance matrix of the errors is correctly specified."
      ],
      "text/plain": [
       "<class 'statsmodels.iolib.summary.Summary'>\n",
       "\"\"\"\n",
       "                                 OLS Regression Results                                \n",
       "=======================================================================================\n",
       "Dep. Variable:                      y   R-squared (uncentered):                   0.094\n",
       "Model:                            OLS   Adj. R-squared (uncentered):              0.093\n",
       "Method:                 Least Squares   F-statistic:                              103.5\n",
       "Date:                Tue, 10 Nov 2020   Prob (F-statistic):                    3.44e-23\n",
       "Time:                        08:10:37   Log-Likelihood:                         -6220.0\n",
       "No. Observations:                1000   AIC:                                  1.244e+04\n",
       "Df Residuals:                     999   BIC:                                  1.245e+04\n",
       "Df Model:                           1                                                  \n",
       "Covariance Type:            nonrobust                                                  \n",
       "==============================================================================\n",
       "                 coef    std err          t      P>|t|      [0.025      0.975]\n",
       "------------------------------------------------------------------------------\n",
       "smoke        129.0543     12.688     10.171      0.000     104.155     153.953\n",
       "==============================================================================\n",
       "Omnibus:                      430.631   Durbin-Watson:                   0.212\n",
       "Prob(Omnibus):                  0.000   Jarque-Bera (JB):             1544.695\n",
       "Skew:                          -2.141   Prob(JB):                         0.00\n",
       "Kurtosis:                       7.328   Cond. No.                         1.00\n",
       "==============================================================================\n",
       "\n",
       "Notes:\n",
       "[1] R² is computed without centering (uncentered) since the model does not contain a constant.\n",
       "[2] Standard Errors assume that the covariance matrix of the errors is correctly specified.\n",
       "\"\"\""
      ]
     },
     "execution_count": 56,
     "metadata": {},
     "output_type": "execute_result"
    }
   ],
   "source": [
    "OLS(Y,X).fit().summary()"
   ]
  },
  {
   "cell_type": "markdown",
   "metadata": {},
   "source": [
    "What did you observe?  Which variable had the highest correlation?  How well did it fit the data in the regression?"
   ]
  },
  {
   "cell_type": "markdown",
   "metadata": {},
   "source": [
    "## Case Study 2"
   ]
  },
  {
   "cell_type": "markdown",
   "metadata": {},
   "source": [
    "## Case Study 3"
   ]
  },
  {
   "cell_type": "markdown",
   "metadata": {},
   "source": [
    "## Case Study 4"
   ]
  },
  {
   "cell_type": "markdown",
   "metadata": {},
   "source": [
    "# Prediction: Training and Testing"
   ]
  }
 ],
 "metadata": {
  "colab": {
   "collapsed_sections": [],
   "name": "Lab4Correlation.ipynb",
   "provenance": []
  },
  "kernelspec": {
   "display_name": "Python 3",
   "language": "python",
   "name": "python3"
  },
  "language_info": {
   "codemirror_mode": {
    "name": "ipython",
    "version": 3
   },
   "file_extension": ".py",
   "mimetype": "text/x-python",
   "name": "python",
   "nbconvert_exporter": "python",
   "pygments_lexer": "ipython3",
   "version": "3.7.7"
  }
 },
 "nbformat": 4,
 "nbformat_minor": 4
}
