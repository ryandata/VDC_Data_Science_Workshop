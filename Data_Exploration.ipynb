{
 "cells": [
  {
   "cell_type": "markdown",
   "metadata": {
    "colab_type": "text",
    "id": "4qRZlH9K22f_"
   },
   "source": [
    "# Data Exploration\n",
    "## Virtual Data Collaboratory Undergraduate Data Science Workshop\n",
    "## November 12, 2020\n",
    "\n",
    "## Instructor: Ryan Womack\n",
    "\n",
    "# Topics\n",
    "- Introduction to Python and Jupyter Notebook environment\n",
    "- Data handling and data exploration using descriptive statistics and data visualization\n",
    "- Statistical analysis of a dataset using correlation and regression\n",
    "- Introduction to the concept of training and testing data splits for machine learning and forecasting applications"
   ]
  },
  {
   "cell_type": "markdown",
   "metadata": {},
   "source": [
    "## About Jupyter Notebooks and Python\n",
    "Python is a general purpose computing language. Some of you may be familiar with it.  It is arguably the most popular language for data science applications due to the large number of statistical and computing modules that have been created for working with data.\n",
    "\n",
    "The Jupyter Notebook is an interactive environment that allows Python code (and other programming languages) to be run alongside explanatory text (like this text), and to view results of code in the same document.  For this reason, it is particularly useful for learning and exploration."
   ]
  },
  {
   "cell_type": "markdown",
   "metadata": {
    "id": "HiLWA78W22gC"
   },
   "source": [
    "## Executing Code\n",
    "You can run the code cells in a Jupyter notebook by clicking in the cell and either clicking \"Run\" in the menu, or by selecting the keys \"Control + Enter\".  In Google Colab, you can also press the \"Play\" button icon.  The numbers that will appear to the left of the cell indicate the order in which commands are run.  It is important to run commands in the proper sequence."
   ]
  },
  {
   "cell_type": "markdown",
   "metadata": {},
   "source": [
    "## Importing Python modules\n",
    "Using Python typically involves loading several specialized modules.  These modules contain many of the graphing and statistical tools we will use.  Run the following cell to import these modules and their specific features.  In this session we are focused on the data exploration process and not the Python language itself, but by seeing this code in action, you can get a sense of what your own Python programming might involve."
   ]
  },
  {
   "cell_type": "code",
   "execution_count": null,
   "metadata": {
    "id": "dzk7Plly22gQ"
   },
   "outputs": [],
   "source": [
    "# Run this cell, but please don't change it.\n",
    "\n",
    "# These lines import Numpy and Pandas for data analysis, and Seaborn and Matplotlib for visualization\n",
    "\n",
    "import numpy as np\n",
    "import matplotlib.pyplot as plt\n",
    "import matplotlib.cm as cm\n",
    "import pandas as pd\n",
    "import seaborn as sns\n",
    "from statsmodels.api import OLS\n",
    "from sklearn import linear_model\n",
    "\n",
    "from google.colab import files\n",
    "\n",
    "# \"Magic\" command below allows you to see plot in the notebook\n",
    "%matplotlib inline"
   ]
  },
  {
   "cell_type": "markdown",
   "metadata": {},
   "source": [
    "## Mount Google Drive\n",
    "\n",
    "One additional piece of setup.  We need to first mount the Google Drive in Colab before we can read data from Google Drive."
   ]
  },
  {
   "cell_type": "code",
   "execution_count": null,
   "metadata": {},
   "outputs": [],
   "source": [
    "from google.colab import drive\n",
    "drive.mount('/content/drive')"
   ]
  },
  {
   "cell_type": "markdown",
   "metadata": {},
   "source": [
    "## Working with Data\n",
    "In most real-world data analysis situations, you must spend a significant amount of time to learn about your data and clean and prepare it for analysis.  We will work with a few datasets that have already been set up for you, so that you can focus on the concepts involved, instead of the details of data preparation.\n",
    "\n",
    "We will work through one example togther, then you will have a choice of datasets to try out as an exercise."
   ]
  },
  {
   "cell_type": "markdown",
   "metadata": {
    "colab_type": "text",
    "id": "1oPGIRrR22gc"
   },
   "source": [
    "# Life Expectancy\n",
    "\n",
    "This dataset is an extract from the World Bank's Gender Statistics dataset, using 2018 data.  \n",
    "https://datacatalog.worldbank.org/dataset/gender-statistics\n",
    "\n",
    "We will look at *life expectancy* among females in various countries around the world, and try to understand some other variables that relate to it."
   ]
  },
  {
   "cell_type": "markdown",
   "metadata": {},
   "source": [
    "## Importing Data\n",
    "\n",
    "We read data directly from its web location (the github site for this workshop).  "
   ]
  },
  {
   "cell_type": "code",
   "execution_count": null,
   "metadata": {},
   "outputs": [],
   "source": [
    "life = pd.read_csv('https://github.com/ryandata/VDC_Data_Science_Workshop/raw/main/life.csv')"
   ]
  },
  {
   "cell_type": "markdown",
   "metadata": {},
   "source": [
    "Print the data to see it and make sure that it is loaded correctly."
   ]
  },
  {
   "cell_type": "code",
   "execution_count": null,
   "metadata": {
    "id": "KDdpAFnqPe25"
   },
   "outputs": [],
   "source": [
    "print(life)"
   ]
  },
  {
   "cell_type": "markdown",
   "metadata": {},
   "source": [
    "We use a few other commands to explore the data.  Columns lets us see the variable names. Shape lets us see the dimensions of the data. Info lets us see the variable formats."
   ]
  },
  {
   "cell_type": "code",
   "execution_count": null,
   "metadata": {
    "colab": {},
    "colab_type": "code",
    "id": "NhqTOCqwQ2aR"
   },
   "outputs": [],
   "source": [
    "life.columns"
   ]
  },
  {
   "cell_type": "code",
   "execution_count": null,
   "metadata": {},
   "outputs": [],
   "source": [
    "life.shape"
   ]
  },
  {
   "cell_type": "code",
   "execution_count": null,
   "metadata": {},
   "outputs": [],
   "source": [
    "life.info()"
   ]
  },
  {
   "cell_type": "markdown",
   "metadata": {},
   "source": [
    "Describe provides summary statistics of each variable"
   ]
  },
  {
   "cell_type": "code",
   "execution_count": null,
   "metadata": {},
   "outputs": [],
   "source": [
    "life.describe()"
   ]
  },
  {
   "cell_type": "markdown",
   "metadata": {
    "colab_type": "text",
    "id": "g2txIYtZSD9N"
   },
   "source": [
    "Who has the highest life expectancy?\n",
    "Let's sort the data and look at the top ranking countries."
   ]
  },
  {
   "cell_type": "code",
   "execution_count": null,
   "metadata": {},
   "outputs": [],
   "source": [
    "life.sort_values(by='Life_Expectancy', ascending=False).head()"
   ]
  },
  {
   "cell_type": "markdown",
   "metadata": {
    "colab_type": "text",
    "id": "eXsoWIzb22gx"
   },
   "source": [
    "## Visualize the relationship between two variables using a scatter plot\n",
    "\n",
    "Plot each data point according to the value of two of the variables.  Observe the pattern that results.\n",
    "\n",
    "Closely grouped and steeply sloped lines will indicate a strong relationship between variables.  Note that the relationship may not always be linear.  Learning to work with more complex models that capture these nuances of the relationships is a key part of data science. \n",
    "\n",
    "Note: We are using the *seaborn* package for visualization in Python.  Along with *matplotlib*, it is one of the most commonly used visualization tools for Python."
   ]
  },
  {
   "cell_type": "markdown",
   "metadata": {},
   "source": [
    "First, we compare Life Expectancy to Mortality Rate.  What can we say about this relationship?"
   ]
  },
  {
   "cell_type": "code",
   "execution_count": null,
   "metadata": {},
   "outputs": [],
   "source": [
    "x_value = life['Mortality_Rate']\n",
    "y_value = life['Life_Expectancy']\n",
    "\n",
    "with sns.axes_style('ticks'):\n",
    "    sns.scatterplot(x=x_value, y=y_value)\n",
    "\n",
    "plt.show()"
   ]
  },
  {
   "cell_type": "markdown",
   "metadata": {},
   "source": [
    "We can also compare all variables to each other using a pair plot."
   ]
  },
  {
   "cell_type": "code",
   "execution_count": null,
   "metadata": {},
   "outputs": [],
   "source": [
    "sns.pairplot(life)"
   ]
  },
  {
   "cell_type": "markdown",
   "metadata": {},
   "source": [
    "We can also look at how data is distributed--for example, Life Expectancy.  One way is via a histogram."
   ]
  },
  {
   "cell_type": "code",
   "execution_count": null,
   "metadata": {
    "colab_type": "text",
    "id": "-Bat46DX22g7"
   },
   "outputs": [],
   "source": [
    "sns.displot(y_value)\n"
   ]
  },
  {
   "cell_type": "markdown",
   "metadata": {},
   "source": [
    "Another is by estimating the distribution of the data (Kernel Density Estimation)"
   ]
  },
  {
   "cell_type": "code",
   "execution_count": null,
   "metadata": {},
   "outputs": [],
   "source": [
    "sns.displot(y_value, kind=\"kde\")\n",
    "\n"
   ]
  },
  {
   "cell_type": "markdown",
   "metadata": {},
   "source": [
    "Or we can combine both on the same plot."
   ]
  },
  {
   "cell_type": "code",
   "execution_count": null,
   "metadata": {},
   "outputs": [],
   "source": [
    "sns.displot(y_value, kde=\"True\")"
   ]
  },
  {
   "cell_type": "markdown",
   "metadata": {},
   "source": [
    "Our final visualization returns us to the scatterplot, but with a **regression line** through the data.  This line is the best linear fit to the data, and can be viewed as estimating the relationship between x and y, if that relationship were reduced to a linear equation.  The process of computing this estimate is called **regression**."
   ]
  },
  {
   "cell_type": "code",
   "execution_count": null,
   "metadata": {},
   "outputs": [],
   "source": [
    "x_value = life['Mortality_Rate']\n",
    "y_value = life['Life_Expectancy']\n",
    "\n",
    "# Plotting regression, with figure-specific style change to white/grid-less background\n",
    "with sns.axes_style('ticks'):\n",
    "    sns.regplot(x=x_value, y=y_value, scatter_kws={'s':10})\n",
    "\n",
    "plt.show()"
   ]
  },
  {
   "cell_type": "markdown",
   "metadata": {},
   "source": [
    "# Correlation and Regression"
   ]
  },
  {
   "cell_type": "markdown",
   "metadata": {},
   "source": [
    "## Correlation\n",
    "**Correlation** is a measure of the strength of the relationship between two variables, ranging from -1 (strongest negative relationship) to 0 (no relationship) to 1 (strongest positive relationship). The relationship may be causal or simply an association, but if a correlation is present, knowing something about one variable means we can make an educated guess, or prediction, about the second variable.\n",
    "We can test the correlation between two variables:"
   ]
  },
  {
   "cell_type": "code",
   "execution_count": null,
   "metadata": {},
   "outputs": [],
   "source": [
    "life.corr()"
   ]
  },
  {
   "cell_type": "code",
   "execution_count": null,
   "metadata": {},
   "outputs": [],
   "source": [
    "Or we can look at all of the correlations in a dataset."
   ]
  },
  {
   "cell_type": "code",
   "execution_count": null,
   "metadata": {},
   "outputs": [],
   "source": [
    "life.corr()"
   ]
  },
  {
   "cell_type": "markdown",
   "metadata": {},
   "source": [
    "Here \"Probability of Survival to Age 5\" has the highest correlation (in absolute value) to Life Expectancy, so it might be one of the first variables to consider when building a regression model to explain the relationship."
   ]
  },
  {
   "cell_type": "code",
   "execution_count": null,
   "metadata": {},
   "outputs": [],
   "source": [
    "We can also visualize the correlation matrix."
   ]
  },
  {
   "cell_type": "code",
   "execution_count": null,
   "metadata": {},
   "outputs": [],
   "source": [
    "corr_mat = life.corr().stack().reset_index(name=\"correlation\")\n",
    "sns.relplot(\n",
    "    data=corr_mat,\n",
    "    x=\"level_0\", y=\"level_1\", hue=\"correlation\", size=\"correlation\",\n",
    "    palette=\"vlag\", hue_norm=(-1, 1), edgecolor=\".7\",\n",
    "    height=10, sizes=(50, 250)\n",
    ")\n"
   ]
  },
  {
   "cell_type": "markdown",
   "metadata": {},
   "source": [
    "## Regression\n",
    "\n",
    "Our final step will be to actually compute the regression equation.  Here we build a model with some of the likely variables, and see how much explanatory power it has.  Our equation will be of the form\n",
    "*y* = *c* + a1*x1* + a2*x2* + ... an*xn*\n",
    "where *y* is our *response* variable (or dependent variable), which we are trying to explain. The *x* variables represent the *explanatory* variables (or independent variables) that we believe affect *y*.  The a's are coefficients on the *x* variables. Finally, *c* is a constant that will be computed by the regression process.\n",
    "The key is to choose the *x* variables wisely. We will start with the one that has the highest correlation to *y*, and then move down the list.\n",
    "In the case of Life Expectancy, we found that Probablity of Survival to age 5 was most closely related, so we build the regression as follows."
   ]
  },
  {
   "cell_type": "markdown",
   "metadata": {},
   "source": [
    "Note that we are using the linear regression tools from *scikit-learn*.  Scikit-learn (https://scikit-learn.org/) is one of the most powerful and popular tools for machine learning in Python."
   ]
  },
  {
   "cell_type": "markdown",
   "metadata": {},
   "source": [
    "Specify our Y and X for the model"
   ]
  },
  {
   "cell_type": "code",
   "execution_count": null,
   "metadata": {},
   "outputs": [],
   "source": [
    "y = life.iloc[:, 'Life_Expectancy'].values\n",
    "print(Y)"
   ]
  },
  {
   "cell_type": "code",
   "execution_count": null,
   "metadata": {},
   "outputs": [],
   "source": [
    "X=life[['Prob_Survival_to_5']]\n",
    "print(X)"
   ]
  },
  {
   "cell_type": "markdown",
   "metadata": {},
   "source": [
    "The next step is necessary to convert the data into a form that the regression algorithm can process."
   ]
  },
  {
   "cell_type": "markdown",
   "metadata": {},
   "source": [
    "Create linear regression object"
   ]
  },
  {
   "cell_type": "code",
   "execution_count": null,
   "metadata": {},
   "outputs": [],
   "source": [
    "regr = linear_model.LinearRegression()"
   ]
  },
  {
   "cell_type": "code",
   "execution_count": null,
   "metadata": {},
   "outputs": [],
   "source": [
    "Fit the model"
   ]
  },
  {
   "cell_type": "code",
   "execution_count": null,
   "metadata": {},
   "outputs": [],
   "source": [
    "regr.fit(X, Y)"
   ]
  },
  {
   "cell_type": "code",
   "execution_count": null,
   "metadata": {},
   "outputs": [],
   "source": [
    "Plot the results"
   ]
  },
  {
   "cell_type": "code",
   "execution_count": null,
   "metadata": {},
   "outputs": [],
   "source": [
    "plt.plot(X, regr.predict(X), color='red',linewidth=3)\n",
    "plt.plot(X,Y,'o')"
   ]
  },
  {
   "cell_type": "code",
   "execution_count": null,
   "metadata": {},
   "outputs": [],
   "source": []
  },
  {
   "cell_type": "markdown",
   "metadata": {},
   "source": [
    "We can also get some very detailed statistics on the regression fit.  For now, just look at two things in the output below.  \n",
    "*R-squared* is one measure of how good the fit it.  It ranges from 0 to 1, with 1 meaning that the equation completely explains all of the variance in the data (best fit).  There is a bit more to it than that, but that is a good enough approximation for now.\n",
    "The *coef* is the coefficient on our explanatory variable.  It this case, it means we can take the Probability of Survival to Age 5 and multiply it by 77 to get an estimate of Life Expectancy that will be reasonably accurate.\n",
    "This gives you a sense of how regression can work as a predictor. We'll return to that topic later."
   ]
  },
  {
   "cell_type": "code",
   "execution_count": null,
   "metadata": {},
   "outputs": [],
   "source": [
    "OLS(Y,X).fit().summary()"
   ]
  },
  {
   "cell_type": "markdown",
   "metadata": {},
   "source": [
    "We can also consider multiple regression, with more than one explanatory variable, along with many other variations.  In the interest of time, however, we'll just be using one variable models in this workshop."
   ]
  },
  {
   "cell_type": "markdown",
   "metadata": {
    "colab_type": "text",
    "id": "sHymHS0G22g9"
   },
   "source": [
    "# Exercises/Case Studies\n",
    "What follows are 4 case studies that you will work through as individual exercises.  Choose ONE that interests you, and explore the data using our tools for data exploration, visualization, and regression.\n",
    "The cases are:\n",
    "    - Cardiovascular Disease (Science)\n",
    "    - World Development (Social Science)\n",
    "    - World Economy (Business/Economics)\n",
    "    - Environment (Another Science)\n",
    "    \n",
    "In each case, there are only a few \"moving parts\" - cells where you will edit the code to select variables and parameters.  Look for the **EDIT HERE** statement.  Be careful to run cells in order."
   ]
  },
  {
   "cell_type": "markdown",
   "metadata": {
    "colab_type": "text",
    "id": "UpYQ9Z7q22g-"
   },
   "source": [
    "## Case Study 1: Cardiovascular Disease\n",
    "\n",
    "The original data has records of 70,000 patients.  See\n",
    "https://www.kaggle.com/sulianova/cardiovascular-disease-dataset for details.  The dataset presented for this class is a sample of 1000 patients (for rapid analysis), and has been cleaned of outliers.\n",
    "\n",
    "The variable \"cardio\" is an indicator of whether or not cardiovascular disease is present.  For now, let's try to predict what is linked to high blood pressure (ap_hi in the dataset)."
   ]
  },
  {
   "cell_type": "code",
   "execution_count": null,
   "metadata": {},
   "outputs": [],
   "source": [
    "cardio = pd.read_csv('https://github.com/ryandata/VDC_Data_Science_Workshop/raw/main/cardio.csv')"
   ]
  },
  {
   "cell_type": "code",
   "execution_count": null,
   "metadata": {},
   "outputs": [],
   "source": [
    "cardio.columns"
   ]
  },
  {
   "cell_type": "code",
   "execution_count": null,
   "metadata": {},
   "outputs": [],
   "source": [
    "cardio.shape"
   ]
  },
  {
   "cell_type": "code",
   "execution_count": null,
   "metadata": {},
   "outputs": [],
   "source": [
    "cardio.info()"
   ]
  },
  {
   "cell_type": "code",
   "execution_count": null,
   "metadata": {},
   "outputs": [],
   "source": [
    "cardio.describe()"
   ]
  },
  {
   "cell_type": "markdown",
   "metadata": {},
   "source": [
    "Some variables are categorical - for example, the cholesterol level is given a rating from 1 to 3 (good to worst). For a zero-one variable like smoking, a zero typically means \"no\" (in this case non-smoking) or \"yes\" (smoking)."
   ]
  },
  {
   "cell_type": "code",
   "execution_count": null,
   "metadata": {},
   "outputs": [],
   "source": [
    "cardio.sort_values(by='weight', ascending=False).head()"
   ]
  },
  {
   "cell_type": "code",
   "execution_count": null,
   "metadata": {},
   "outputs": [],
   "source": [
    "sns.pairplot(cardio)"
   ]
  },
  {
   "cell_type": "markdown",
   "metadata": {},
   "source": [
    "Here the pairplot is a bit hairy.  There are many variables, and the categorical variables are hard to interpret with this kind of visualization.  We can move on to examining individual combinations."
   ]
  },
  {
   "cell_type": "code",
   "execution_count": null,
   "metadata": {},
   "outputs": [],
   "source": [
    "x_value = cardio['weight']\n",
    "y_value = cardio['ap_hi']\n",
    "\n",
    "# Plotting regression, with figure-specific style change to white/grid-less background\n",
    "with sns.axes_style('ticks'):\n",
    "    sns.regplot(x=x_value, y=y_value, scatter_kws={'s':10})\n",
    "\n",
    "plt.show()"
   ]
  },
  {
   "cell_type": "code",
   "execution_count": null,
   "metadata": {},
   "outputs": [],
   "source": [
    "sns.displot(y_value)\n"
   ]
  },
  {
   "cell_type": "code",
   "execution_count": null,
   "metadata": {},
   "outputs": [],
   "source": []
  },
  {
   "cell_type": "code",
   "execution_count": null,
   "metadata": {},
   "outputs": [],
   "source": [
    "sns.displot(y_value, kde=\"True\")"
   ]
  }
 ],
 "metadata": {
  "colab": {
   "collapsed_sections": [],
   "name": "Lab4Correlation.ipynb",
   "provenance": []
  },
  "kernelspec": {
   "display_name": "Python 3",
   "language": "python",
   "name": "python3"
  },
  "language_info": {
   "codemirror_mode": {
    "name": "ipython",
    "version": 3
   },
   "file_extension": ".py",
   "mimetype": "text/x-python",
   "name": "python",
   "nbconvert_exporter": "python",
   "pygments_lexer": "ipython3",
   "version": "3.7.7"
  }
 },
 "nbformat": 4,
 "nbformat_minor": 4
}
